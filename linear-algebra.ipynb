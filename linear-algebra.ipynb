{
 "cells": [
  {
   "cell_type": "code",
   "execution_count": 22,
   "metadata": {},
   "outputs": [],
   "source": [
    "import numpy as np\n",
    "import math"
   ]
  },
  {
   "cell_type": "markdown",
   "metadata": {},
   "source": [
    "# Linear Algebra"
   ]
  },
  {
   "cell_type": "markdown",
   "metadata": {},
   "source": [
    "### LU Decomposition"
   ]
  },
  {
   "cell_type": "code",
   "execution_count": 23,
   "metadata": {},
   "outputs": [],
   "source": [
    "# def pivot(matrix):\n",
    "#     order = matrix.shape[0]\n",
    "#     for line in range(order-1):\n",
    "#         if (matrix[line][line]) = 0\n",
    "\n",
    "def get_matrix_decomposition_step(matrix, step_index):        \n",
    "        order = matrix.shape[0]\n",
    "        pivot = matrix[step_index, step_index]\n",
    "        \n",
    "        if (pivot == 0):\n",
    "            raise ValueError('Pivot is 0!', matrix, step_index)\n",
    "            return\n",
    "            # pivotting missing here\n",
    "#           return get_matrix_decomposition_step(pivot(matrix), step_index)\n",
    "        \n",
    "        lower = np.identity(order)\n",
    "        upper = np.identity(order)\n",
    "        \n",
    "        for line_index in range (step_index + 1, order):\n",
    "            element = matrix[line_index, step_index] / pivot\n",
    "            \n",
    "            lower[line_index, step_index] = element\n",
    "            upper[line_index, step_index] = - element\n",
    "            \n",
    "        return lower, upper\n",
    "    \n",
    "def lu_decompose(matrix):\n",
    "    order = matrix.shape[0]\n",
    "    upper = matrix\n",
    "    upper_combination = np.identity(order)\n",
    "    lower = np.identity(order)\n",
    "    \n",
    "    for step_index in range (order - 1):\n",
    "        lower_step, upper_step = get_matrix_decomposition_step(upper, step_index)\n",
    "        upper_combination = upper_step @ upper_combination\n",
    "        lower = lower_step@lower\n",
    "        upper = upper_step@upper\n",
    "\n",
    "    return lower, upper, upper_combination\n"
   ]
  },
  {
   "cell_type": "markdown",
   "metadata": {},
   "source": [
    "### Cholesky decomposition"
   ]
  },
  {
   "cell_type": "code",
   "execution_count": 24,
   "metadata": {},
   "outputs": [],
   "source": [
    "def check_simetric_positive_defined(matrix):\n",
    "    order = matrix.shape[0]\n",
    "    \n",
    "    for i in range(order):\n",
    "        if matrix[i,i] < 0:\n",
    "            return false\n",
    "        \n",
    "        for j in range(order):\n",
    "            if matrix[i,j] != matrix[j,i]:\n",
    "                return False\n",
    "    \n",
    "    return True"
   ]
  },
  {
   "cell_type": "code",
   "execution_count": 25,
   "metadata": {},
   "outputs": [],
   "source": [
    "def cholesky_decompose(A):\n",
    "    order = A.shape[0]\n",
    "\n",
    "    L = np.zeros((order, order))\n",
    "\n",
    "    for i in range(order):\n",
    "        for k in range(i+1):\n",
    "            tmp_sum = sum(L[i,j] * L[k,j] for j in range(k))\n",
    "            \n",
    "            if (i == k):\n",
    "                L[i,k] = math.sqrt(A[i,i] - tmp_sum)\n",
    "            else:\n",
    "                L[i,k] = (1.0 / L[k,k] * (A[i,k] - tmp_sum))\n",
    "    return L"
   ]
  },
  {
   "cell_type": "markdown",
   "metadata": {},
   "source": [
    "### Gauss elimination"
   ]
  },
  {
   "cell_type": "code",
   "execution_count": 26,
   "metadata": {},
   "outputs": [],
   "source": [
    "def gauss_elimination(matrix):\n",
    "    _, upper, upper_combination = lu_decompose(matrix)\n",
    "    return upper, upper_combination"
   ]
  },
  {
   "cell_type": "markdown",
   "metadata": {},
   "source": [
    "### Solve AX = B by gauss elimination"
   ]
  },
  {
   "cell_type": "code",
   "execution_count": 27,
   "metadata": {},
   "outputs": [],
   "source": [
    "def solve_equation_gauss_elimination(A, B):\n",
    "    order = A.shape[0]\n",
    "    last_index = order-1\n",
    "\n",
    "    A, combination_matrix = gauss_elimination(A)\n",
    "    B = combination_matrix @ B\n",
    "    \n",
    "    X = np.zeros(order)\n",
    "    \n",
    "    X[last_index] = B[last_index] / A[last_index, last_index]\n",
    "        \n",
    "    for x_index in range(last_index - 1, -1, -1): # from n-1 to 0\n",
    "        backwards_sum = 0\n",
    "        for sum_index in range(last_index, x_index, -1):\n",
    "            backwards_sum += A[x_index, sum_index] * X[sum_index] \n",
    "        \n",
    "        X[x_index] = (B[x_index] - backwards_sum) / A[x_index, x_index]\n",
    "        \n",
    "    return X"
   ]
  },
  {
   "cell_type": "markdown",
   "metadata": {},
   "source": [
    "### Determinant"
   ]
  },
  {
   "cell_type": "code",
   "execution_count": 28,
   "metadata": {},
   "outputs": [],
   "source": [
    "def determinant(matrix):\n",
    "    # pivotting missing here\n",
    "    \n",
    "    order = matrix.shape[0]\n",
    "    upper, lower, _ = lu_decompose(matrix)\n",
    "    lower_det = 1\n",
    "    upper_det = 1\n",
    "    \n",
    "    for index in range(order):\n",
    "        lower_det = lower[index, index] * lower_det\n",
    "        upper_det = upper[index, index] * upper_det\n",
    "        \n",
    "    return lower_det * upper_det"
   ]
  },
  {
   "cell_type": "markdown",
   "metadata": {},
   "source": [
    "### Solve AX = B by Jacobi method"
   ]
  },
  {
   "cell_type": "code",
   "execution_count": 29,
   "metadata": {},
   "outputs": [],
   "source": [
    "def check_diagonal_dominance(A):\n",
    "    order = A.shape[0]\n",
    "    for diagonal_index in range(order):\n",
    "        row_sum = 0\n",
    "        column_sum = 0\n",
    "        diagonal_item = A[diagonal_index, diagonal_index]\n",
    "        \n",
    "        for item_index in range(order):\n",
    "            row_sum += A[diagonal_index, item_index]\n",
    "            column_sum += A[item_index, diagonal_index]\n",
    "        \n",
    "        if (diagonal_item < row_sum or diagonal_item < column_sum):\n",
    "            return False\n",
    "        \n",
    "        return True\n",
    "\n",
    "def solve_equation_jacobi(A, B, tolerance=0.000001):\n",
    "    order = A.shape[0]\n",
    "    residue = tolerance + 1\n",
    "    X = np.ones(order)\n",
    "    \n",
    "    if (not check_diagonal_dominance(A)):\n",
    "        return -1\n",
    "    \n",
    "    while(residue > tolerance):\n",
    "        currentX = np.ones(order)\n",
    "        \n",
    "        for x_index in range (order):\n",
    "            subtrahend = 0\n",
    "            \n",
    "            for sum_index in range (order):\n",
    "                if (sum_index == x_index):\n",
    "                    continue\n",
    "                subtrahend += A[x_index, sum_index] * X[sum_index]\n",
    "            \n",
    "            currentX[x_index] = (B[x_index] - subtrahend) / A[x_index, x_index]\n",
    "        \n",
    "        residue = np.linalg.norm(currentX - X, ord=2) / np.linalg.norm(currentX, ord=2)\n",
    "        X = currentX\n",
    "    \n",
    "    return X\n",
    "        "
   ]
  },
  {
   "cell_type": "markdown",
   "metadata": {},
   "source": [
    "### Solve AX = B by Gauss-seidel method"
   ]
  },
  {
   "cell_type": "code",
   "execution_count": 30,
   "metadata": {},
   "outputs": [],
   "source": [
    "def solve_equation_gauss_seidel(A, B, tolerance=0.000001):\n",
    "    order = A.shape[0]\n",
    "    residue = tolerance + 1\n",
    "    X = np.ones(order)\n",
    "    \n",
    "    if (not check_simetric_positive_defined(A) and not check_diagonal_dominance(A)):\n",
    "        return -1\n",
    "    \n",
    "    while(residue > tolerance):\n",
    "        currentX = np.ones(order)\n",
    "        \n",
    "        for i in range (order):\n",
    "            subtrahend = 0\n",
    "            \n",
    "            for j in range (i):\n",
    "                subtrahend += A[i, j] * currentX[j]\n",
    "    \n",
    "            for j in range (i + 1, order):\n",
    "                subtrahend += A[i, j] * X[j]\n",
    "\n",
    "            currentX[i] = (B[i] - subtrahend) / A[i, i]\n",
    "        \n",
    "        residue = np.linalg.norm(currentX - X, ord=2) / np.linalg.norm(currentX, ord=2)\n",
    "        X = currentX\n",
    "    \n",
    "    return X"
   ]
  },
  {
   "cell_type": "markdown",
   "metadata": {},
   "source": [
    "# Tests"
   ]
  },
  {
   "cell_type": "code",
   "execution_count": 31,
   "metadata": {},
   "outputs": [],
   "source": [
    "def match(expected, result, acceptClose=False):\n",
    "    if (type(expected) != type(result)):\n",
    "        raise TypeError(f'❌ expected {expected}, got: {result}',)\n",
    "        return\n",
    "    \n",
    "    if (type(expected) != np.ndarray and expected != result):\n",
    "        raise ValueError(f'❌ expected {expected}, got: {result}',)\n",
    "        return \n",
    "    \n",
    "    if (not acceptClose and not np.array_equal(expected,result)):\n",
    "        raise ValueError(f'❌ expected {expected}, got: {result}')\n",
    "        return \n",
    "    \n",
    "    if (acceptClose and not np.allclose(expected,result, rtol=0.1)):\n",
    "        raise ValueError(f'❌ expected {expected}, got: {result}')\n",
    "        return \n",
    "        \n",
    "    return print(\"✅ pass!\")"
   ]
  },
  {
   "cell_type": "markdown",
   "metadata": {},
   "source": [
    "### Cholesky Decompostion"
   ]
  },
  {
   "cell_type": "code",
   "execution_count": 32,
   "metadata": {
    "tags": []
   },
   "outputs": [],
   "source": [
    "def solve_cholesky_decompose():\n",
    "    A = np.array(\n",
    "        [[1, .2, .4],\n",
    "        [.2, 1, .5],\n",
    "        [.4, .5, 1]]\n",
    "    )\n",
    "\n",
    "    result = cholesky_decompose(A)\n",
    "    \n",
    "    expected = np.array([[1,  0, 0],[.2,.98,0],[.4,.43,.81]])\n",
    "    \n",
    "    match(expected, result, acceptClose=True)"
   ]
  },
  {
   "cell_type": "markdown",
   "metadata": {},
   "source": [
    "### Solve AX = B by gauss elimination"
   ]
  },
  {
   "cell_type": "code",
   "execution_count": 33,
   "metadata": {
    "tags": []
   },
   "outputs": [],
   "source": [
    "def solve_3_by_3_gauss():\n",
    "    A = np.array(\n",
    "        [[1, 2, 2],\n",
    "        [4, 4, 2],\n",
    "        [4, 6, 4]]\n",
    "    )\n",
    "\n",
    "    B = np.array([ 3, 6, 10])\n",
    "\n",
    "    result = solve_equation_gauss_elimination(A, B)\n",
    "    expected = np.array([-1.,  3., -1.])\n",
    "    \n",
    "    match(expected, result)\n",
    "\n",
    "def solve_2_by_2_pivot_gauss(): \n",
    "    A = np.array([[1,1],[1,1]])\n",
    "\n",
    "    B = np.array([2,2])\n",
    "\n",
    "    result = solve_equation_gauss_elimination(A, B)\n",
    "    expected = np.array([1, 1])\n",
    "    \n",
    "    match(expected, result)"
   ]
  },
  {
   "cell_type": "markdown",
   "metadata": {},
   "source": [
    "### Solve AX = B by jacobi"
   ]
  },
  {
   "cell_type": "code",
   "execution_count": 34,
   "metadata": {
    "tags": []
   },
   "outputs": [],
   "source": [
    "def solve_3_by_3_jacobi():\n",
    "    A = np.array(\n",
    "        [[3, -1, -1],\n",
    "        [-1, +3, -1],\n",
    "        [-1, -1, +3]]\n",
    "    )\n",
    "\n",
    "    B = np.array([1, 2, 1])\n",
    "\n",
    "    result = solve_equation_jacobi(A, B)\n",
    "    expected = np.array([1.25,  1.5, 1.25])\n",
    "    \n",
    "    match(expected, result, acceptClose=True)\n",
    "    \n",
    "def does_not_converge_jacobi():\n",
    "    A = np.array(\n",
    "        [[1, 2, 2],\n",
    "        [4, 4, 2],\n",
    "        [4, 6, 4]]\n",
    "    )\n",
    "\n",
    "    B = np.array([3, 6, 10])\n",
    "\n",
    "    result = solve_equation_jacobi(A, B)\n",
    "    expected = -1\n",
    "    \n",
    "    match(expected, result, acceptClose=True)\n"
   ]
  },
  {
   "cell_type": "code",
   "execution_count": 35,
   "metadata": {
    "tags": []
   },
   "outputs": [],
   "source": [
    "def solve_3_by_3_gauss_seidel():\n",
    "    A = np.array(\n",
    "        [[3, -1, -1],\n",
    "        [-1, +3, -1],\n",
    "        [-1, -1, +3]]\n",
    "    )\n",
    "\n",
    "    B = np.array([1, 2, 1])\n",
    "\n",
    "    result = solve_equation_gauss_seidel(A, B)\n",
    "    expected = np.array([1.25,  1.5, 1.25])\n",
    "    \n",
    "    match(expected, result, acceptClose=True)\n",
    "    \n",
    "def does_not_converge_gauss_seidel():\n",
    "    A = np.array(\n",
    "        [[1, 2, 2],\n",
    "        [4, 4, 2],\n",
    "        [4, 6, 4]]\n",
    "    )\n",
    "\n",
    "    B = np.array([3, 6, 10])\n",
    "\n",
    "    result = solve_equation_gauss_seidel(A, B)\n",
    "    expected = -1\n",
    "    \n",
    "    match(expected, result, acceptClose=True)"
   ]
  },
  {
   "cell_type": "code",
   "execution_count": 36,
   "metadata": {
    "tags": []
   },
   "outputs": [
    {
     "output_type": "stream",
     "name": "stdout",
     "text": "✅ pass!\n✅ pass!\n✅ pass!\n✅ pass!\n"
    }
   ],
   "source": [
    "solve_cholesky_decompose()\n",
    "solve_3_by_3_gauss_seidel()\n",
    "does_not_converge_gauss_seidel()\n",
    "solve_3_by_3_gauss()\n",
    "# solve_2_by_2_pivot_gauss()"
   ]
  }
 ],
 "metadata": {
  "kernelspec": {
   "display_name": "Python 3",
   "language": "python",
   "name": "python3"
  },
  "language_info": {
   "codemirror_mode": {
    "name": "ipython",
    "version": 3
   },
   "file_extension": ".py",
   "mimetype": "text/x-python",
   "name": "python",
   "nbconvert_exporter": "python",
   "pygments_lexer": "ipython3",
   "version": "3.8.5-final"
  }
 },
 "nbformat": 4,
 "nbformat_minor": 4
}