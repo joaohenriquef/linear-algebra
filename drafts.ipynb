{
 "cells": [
  {
   "cell_type": "code",
   "execution_count": 1,
   "metadata": {},
   "outputs": [],
   "source": [
    "%run ./linear_algebra.ipynb"
   ]
  },
  {
   "cell_type": "code",
   "execution_count": 2,
   "metadata": {},
   "outputs": [
    {
     "name": "stdout",
     "output_type": "stream",
     "text": [
      "-1\n",
      "-1\n"
     ]
    }
   ],
   "source": [
    "def list1_q4a():\n",
    "    A = np.array([\n",
    "        [5, -4, 1, 0],\n",
    "        [-4, 6, -4, 1],\n",
    "        [1, -4, 6, -4],\n",
    "        [0, 1, -4, 5]\n",
    "    ])\n",
    "\n",
    "    B = np.array([-1,2,1,3])\n",
    "\n",
    "\n",
    "    jacobi_result = solve_jacobi(A, B)\n",
    "    gauss_seidel_result = solve_gauss_seidel(A, B)\n",
    "\n",
    "    print(jacobi_result)\n",
    "    print(jacobi_result)\n",
    "    \n",
    "list1_q4a()"
   ]
  },
  {
   "cell_type": "code",
   "execution_count": 12,
   "metadata": {},
   "outputs": [
    {
     "name": "stdout",
     "output_type": "stream",
     "text": [
      "[[1.2 1.6 1.4 0.8]\n",
      " [1.6 2.6 2.4 1.4]\n",
      " [1.4 2.4 2.6 1.6]\n",
      " [0.8 1.4 1.6 1.2]]\n",
      "[[1.20009524 1.60016667 1.40019048 0.80014286]\n",
      " [1.60015238 2.60026667 2.40030476 1.40022857]\n",
      " [1.40013333 2.40023333 2.60026667 1.6002    ]\n",
      " [0.8        1.4        1.6        1.2       ]]\n",
      "24.99999999999998\n"
     ]
    }
   ],
   "source": [
    "def lis1_q4b():\n",
    "    A = np.array([\n",
    "        [5, -4, 1, 0],\n",
    "        [-4, 6, -4, 1],\n",
    "        [1, -4, 6, -4],\n",
    "        [0, 1, -4, 5]\n",
    "    ])\n",
    "    \n",
    "    M4 = np.array([\n",
    "        [1/5, 0, 0, 0],\n",
    "        [0, 5/14, 0, 0],\n",
    "        [0, 0, 7/15, 0],\n",
    "        [0, 0, 0, 6/5]\n",
    "    ])\n",
    "    \n",
    "    M1 = np.array([\n",
    "        [1., 0, 0, 0],\n",
    "        [4/5, 1, 0, 0],\n",
    "        [-1/5, 0, 1, 0],\n",
    "        [0, 0, 0, 1]\n",
    "    ])\n",
    "    \n",
    "    M2 = np.array([\n",
    "        [1., 0, 0, 0],\n",
    "        [0, 1, 0, 0],\n",
    "        [0, 8/7, 1, 0],\n",
    "        [0, -5/14, 0, 1]\n",
    "    ])\n",
    "        \n",
    "    M3 = np.array([\n",
    "        [1., 0, 0, 0],\n",
    "        [0, 1, 0, 0],\n",
    "        [0, 0, 1, 0],\n",
    "        [0, 0, 4/3, 1]\n",
    "    ])\n",
    "            \n",
    "    M1L = np.array([\n",
    "        [1., 0, 0, 0],\n",
    "        [0, 1, 0, -1.2],\n",
    "        [0, 0, 1, 3.429],\n",
    "        [0, 0, 0, 1]\n",
    "    ])\n",
    "                \n",
    "    M2L = np.array([\n",
    "        [1., 0, -7/15, 0],\n",
    "        [0, 1, 112/75, 0],\n",
    "        [0, 0, 1, 0],\n",
    "        [0, 0, 0, 1]\n",
    "    ])\n",
    "                    \n",
    "    M3L = np.array([\n",
    "        [1., 10/7, 0, 0],\n",
    "        [0, 1, 0, 0],\n",
    "        [0, 0, 1, 0],\n",
    "        [0, 0, 0, 1]\n",
    "    ])\n",
    "    \n",
    "    expected = np.linalg.inv(A)\n",
    "    result =  M4 @ M3L @ M2L @ M1L @ M3 @ M2 @ M1\n",
    "    \n",
    "    print(expected)\n",
    "    print(result)\n",
    "    print(determinant(A))\n",
    "\n",
    "lis1_q4b()"
   ]
  },
  {
   "cell_type": "code",
   "execution_count": 11,
   "metadata": {},
   "outputs": [
    {
     "name": "stdout",
     "output_type": "stream",
     "text": [
      "Resultado por Eliminação de Gauss: [ 0.229 -0.358  0.613 -0.274 -0.048 -0.342  0.818 -0.431  0.479 -0.35 ]\n",
      "Resultado por Gauss-Seidel: [ 0.229 -0.358  0.613 -0.274 -0.048 -0.342  0.818 -0.431  0.479 -0.35 ]\n",
      "Determinante: 20385044096.0\n"
     ]
    }
   ],
   "source": [
    "def list1_q6():\n",
    "    A = np.array([\n",
    "        [16,9,8,7,6,5,4,3,2,1],\n",
    "        [9,17,9,8,7,6,5,4,3,2],\n",
    "        [8,9,18,9,8,7,6,5,4,3],\n",
    "        [7,8,9,19,9,8,7,6,5,4],\n",
    "        [6,7,8,9,18,9,8,7,6,5],\n",
    "        [5,6,7,8,9,17,9,8,7,6],\n",
    "        [4,5,6,7,8,9,16,9,8,7],\n",
    "        [3,4,5,6,7,8,9,15,9,8],\n",
    "        [2,3,4,5,6,7,8,9,14,9],\n",
    "        [1,2,3,4,5,6,7,8,9,13]\n",
    "    ])\n",
    "    \n",
    "    \n",
    "    B = np.array([4,0,8,0,2,0,8,0,4,0])\n",
    "    \n",
    "    gauss_result = solve_gauss_elimination(A, B)\n",
    "    gauss_seidel_result = solve_gauss_seidel(A, B)\n",
    "    \n",
    "    print(\"Resultado por Eliminação de Gauss:\", np.round(gauss_result, 3))\n",
    "    print(\"Resultado por Gauss-Seidel:\", np.round(gauss_seidel_result, 3))\n",
    "    print(\"Determinante:\", determinant(A))\n",
    "    \n",
    "list1_q6()"
   ]
  },
  {
   "cell_type": "code",
   "execution_count": null,
   "metadata": {},
   "outputs": [],
   "source": []
  }
 ],
 "metadata": {
  "kernelspec": {
   "display_name": "Python 3.8.5 64-bit",
   "language": "python",
   "name": "python38564bit2d833a75566a4d3d90bb98e5ae80268b"
  },
  "language_info": {
   "codemirror_mode": {
    "name": "ipython",
    "version": 3
   },
   "file_extension": ".py",
   "mimetype": "text/x-python",
   "name": "python",
   "nbconvert_exporter": "python",
   "pygments_lexer": "ipython3",
   "version": "3.8.5"
  }
 },
 "nbformat": 4,
 "nbformat_minor": 4
}
