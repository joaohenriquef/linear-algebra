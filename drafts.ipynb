{
 "cells": [
  {
   "cell_type": "code",
   "execution_count": 24,
   "metadata": {},
   "outputs": [],
   "source": [
    "%run ./linear_algebra.ipynb"
   ]
  },
  {
   "cell_type": "code",
   "execution_count": 25,
   "metadata": {},
   "outputs": [
    {
     "name": "stdout",
     "output_type": "stream",
     "text": [
      "-1\n"
     ]
    }
   ],
   "source": [
    "def list1_q4():\n",
    "    A = np.array([\n",
    "        [5, -4, 1, 0],\n",
    "        [-4, 6, -4, 1],\n",
    "        [1, -4, 6, -4],\n",
    "        [0, 1, -4, 5]\n",
    "    ])\n",
    "\n",
    "    B = np.array([-1,2,1,3])\n",
    "\n",
    "\n",
    "    jacobi_result = solve_jacobi(A, B)\n",
    "\n",
    "    print(jacobi_result)\n",
    "    \n",
    "list1_q4()"
   ]
  },
  {
   "cell_type": "code",
   "execution_count": null,
   "metadata": {},
   "outputs": [],
   "source": []
  }
 ],
 "metadata": {
  "kernelspec": {
   "display_name": "Python 3.8.5 64-bit",
   "language": "python",
   "name": "python38564bit2d833a75566a4d3d90bb98e5ae80268b"
  },
  "language_info": {
   "codemirror_mode": {
    "name": "ipython",
    "version": 3
   },
   "file_extension": ".py",
   "mimetype": "text/x-python",
   "name": "python",
   "nbconvert_exporter": "python",
   "pygments_lexer": "ipython3",
   "version": "3.8.5"
  }
 },
 "nbformat": 4,
 "nbformat_minor": 4
}
