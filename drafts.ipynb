{
 "cells": [
  {
   "cell_type": "markdown",
   "metadata": {},
   "source": [
    "# Gauss Jordan"
   ]
  },
  {
   "cell_type": "code",
   "execution_count": null,
   "metadata": {},
   "outputs": [],
   "source": [
    "def get_lower_linear_combination_matrix_step(input_matrix, step_index):    \n",
    "        order = input_matrix.shape[0];\n",
    "        \n",
    "        column_index = order - step_index - 1\n",
    "        \n",
    "        result = np.identity(order);\n",
    "        pivot = input_matrix[column_index, column_index]\n",
    "        \n",
    "        for line_index in range (column_index - 1, -1, -1):\n",
    "            result[line_index, column_index] = (- input_matrix[line_index, column_index] / pivot)\n",
    "                        \n",
    "        return result\n",
    "    \n",
    "def get_lower_decomposed_matrix(matrix):\n",
    "    order = matrix.shape[0]\n",
    "    \n",
    "    l = np.identity(order)\n",
    "    for step_index in range(order - 1):\n",
    "        current_multiplier = get_lower_linear_combination_matrix_step(matrix, step_index)\n",
    "        l = current_multiplier@l\n",
    "\n",
    "    return l\n",
    "\n",
    "def gauss_jordan_elimination(matrix):\n",
    "    upper = gauss_elimination(matrix)\n",
    "    lower = get_lower_decomposed_matrix(matrix)\n",
    "    \n",
    "    print(f'LU:\\nL:\\n{lower}\\nU:\\n{upper}')\n",
    "    \n",
    "    return lower@upper"
   ]
  }
 ],
 "metadata": {
  "kernelspec": {
   "display_name": "Python 3",
   "language": "python",
   "name": "python3"
  },
  "language_info": {
   "codemirror_mode": {
    "name": "ipython",
    "version": 3
   },
   "file_extension": ".py",
   "mimetype": "text/x-python",
   "name": "python",
   "nbconvert_exporter": "python",
   "pygments_lexer": "ipython3",
   "version": "3.8.3"
  }
 },
 "nbformat": 4,
 "nbformat_minor": 4
}
