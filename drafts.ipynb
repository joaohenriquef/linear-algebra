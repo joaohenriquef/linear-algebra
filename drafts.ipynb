{
 "cells": [
  {
   "cell_type": "code",
   "execution_count": 2,
   "metadata": {},
   "outputs": [],
   "source": [
    "%run ./linear_algebra.ipynb"
   ]
  },
  {
   "cell_type": "code",
   "execution_count": 17,
   "metadata": {},
   "outputs": [
    {
     "data": {
      "text/plain": [
       "array([ 5.8, 10.2, 10.8,  7.2])"
      ]
     },
     "execution_count": 17,
     "metadata": {},
     "output_type": "execute_result"
    }
   ],
   "source": [
    "A = np.array([\n",
    "    [5, -4, 1, 0],\n",
    "    [-4, 6, -4, 1],\n",
    "    [1, -4, 6, -4],\n",
    "    [0, 1, -4, 5]\n",
    "])\n",
    "\n",
    "B = np.array([-1,2,1,3])\n",
    "\n",
    "\n",
    "X = solve_gauss_elimination(A, B)\n",
    "\n",
    "X"
   ]
  },
  {
   "cell_type": "code",
   "execution_count": 21,
   "metadata": {},
   "outputs": [],
   "source": [
    "L,U,M,P = lu_decompose(A)\n"
   ]
  },
  {
   "cell_type": "code",
   "execution_count": 22,
   "metadata": {},
   "outputs": [
    {
     "data": {
      "text/plain": [
       "array([-1.        ,  1.2       ,  2.57142857,  6.        ])"
      ]
     },
     "execution_count": 22,
     "metadata": {},
     "output_type": "execute_result"
    }
   ],
   "source": [
    "M @ B"
   ]
  },
  {
   "cell_type": "code",
   "execution_count": 24,
   "metadata": {},
   "outputs": [
    {
     "data": {
      "text/plain": [
       "array([[ 5.        , -4.        ,  1.        ,  0.        ],\n",
       "       [ 0.        ,  2.8       , -3.2       ,  1.        ],\n",
       "       [ 0.        ,  0.        ,  2.14285714, -2.85714286],\n",
       "       [ 0.        ,  0.        ,  0.        ,  0.83333333]])"
      ]
     },
     "execution_count": 24,
     "metadata": {},
     "output_type": "execute_result"
    }
   ],
   "source": [
    "U"
   ]
  },
  {
   "cell_type": "code",
   "execution_count": 29,
   "metadata": {},
   "outputs": [
    {
     "name": "stdout",
     "output_type": "stream",
     "text": [
      "[[ 5.00000000e+00 -4.00000000e+00  1.37456184e-17  0.00000000e+00]\n",
      " [ 0.00000000e+00  2.80000000e+00 -1.26459689e-16  0.00000000e+00]\n",
      " [ 0.00000000e+00  0.00000000e+00  2.14285714e+00  0.00000000e+00]\n",
      " [ 0.00000000e+00  0.00000000e+00  0.00000000e+00  8.33333333e-01]]\n"
     ]
    }
   ],
   "source": [
    "A = np.array([\n",
    "    [1., 0, -7/15, 0],\n",
    "    [0, 1, ((16*7)/(15*5)), 0],\n",
    "    [0, 0, 1, 0],\n",
    "    [0, 0, 0, 1]\n",
    "])\n",
    "\n",
    "B = np.array([\n",
    "    [5.,-4.,1,0],\n",
    "    [0,14./5,-16./5,0],\n",
    "    [0,0,15/7,0],\n",
    "    [0,0,0,35./42]\n",
    "])\n",
    "\n",
    "print(A@B)"
   ]
  },
  {
   "cell_type": "code",
   "execution_count": null,
   "metadata": {},
   "outputs": [],
   "source": []
  }
 ],
 "metadata": {
  "kernelspec": {
   "display_name": "Python 3.8.5 64-bit",
   "language": "python",
   "name": "python38564bit2d833a75566a4d3d90bb98e5ae80268b"
  },
  "language_info": {
   "codemirror_mode": {
    "name": "ipython",
    "version": 3
   },
   "file_extension": ".py",
   "mimetype": "text/x-python",
   "name": "python",
   "nbconvert_exporter": "python",
   "pygments_lexer": "ipython3",
   "version": "3.8.5"
  }
 },
 "nbformat": 4,
 "nbformat_minor": 4
}
