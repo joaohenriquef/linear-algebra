{
 "cells": [
  {
   "cell_type": "markdown",
   "metadata": {},
   "source": [
    "# Tests"
   ]
  },
  {
   "cell_type": "markdown",
   "metadata": {},
   "source": [
    "### Matching helper"
   ]
  },
  {
   "cell_type": "code",
   "execution_count": 1,
   "metadata": {},
   "outputs": [],
   "source": [
    "def match(expected, result, rtol=None):\n",
    "    if (type(expected) != type(result)):\n",
    "        raise TypeError(f'❌ expected {type(expected)}, got: {type(result)}',)\n",
    "        return\n",
    "    \n",
    "    if (type(expected) != np.ndarray and expected != result and not rtol):\n",
    "        raise ValueError(f'❌ expected {expected}, got: {result}',)\n",
    "        return \n",
    "    \n",
    "    if (type(expected) != np.ndarray and (result > expected + rtol or result < expected - rtol)):\n",
    "        raise ValueError(f'❌ expected {expected}, got: {result}',)\n",
    "        return \n",
    "    \n",
    "    if (not rtol and not np.array_equal(expected,result)):\n",
    "        raise ValueError(f'❌ expected {expected}, got: {result}')\n",
    "        return \n",
    "    \n",
    "    if (rtol and not np.allclose(expected,result, rtol)):\n",
    "        raise ValueError(f'❌ expected {expected}, got: {result}')\n",
    "        return \n",
    "        \n",
    "    return print(\"✅ pass!\")"
   ]
  },
  {
   "cell_type": "markdown",
   "metadata": {},
   "source": [
    "### Cholesky Decompostion"
   ]
  },
  {
   "cell_type": "code",
   "execution_count": 2,
   "metadata": {
    "tags": []
   },
   "outputs": [],
   "source": [
    "def solve_cholesky_decompose():\n",
    "    A = np.array(\n",
    "        [[1, .2, .4],\n",
    "        [.2, 1, .5],\n",
    "        [.4, .5, 1]]\n",
    "    )\n",
    "\n",
    "    result = cholesky_decompose(A)\n",
    "    \n",
    "    expected = np.array([[1,  0, 0],[.2,.98,0],[.4,.43,.81]])\n",
    "    \n",
    "    match(expected, result, rtol=0.01)"
   ]
  },
  {
   "cell_type": "markdown",
   "metadata": {},
   "source": [
    "### Solve AX = B by gauss elimination"
   ]
  },
  {
   "cell_type": "code",
   "execution_count": 3,
   "metadata": {
    "tags": []
   },
   "outputs": [],
   "source": [
    "def solve_3_by_3_gauss():\n",
    "    A = np.array(\n",
    "        [[1, 2, 2],\n",
    "        [4, 4, 2],\n",
    "        [4, 6, 4]]\n",
    "    )\n",
    "\n",
    "    B = np.array([ 3, 6, 10])\n",
    "\n",
    "    result = solve_equation_gauss_elimination(A, B)\n",
    "    expected = np.array([-1.,  3., -1.])\n",
    "    \n",
    "    match(expected, result)\n",
    "\n",
    "def solve_2_by_2_pivot_gauss(): \n",
    "    A = np.array([[1,1],[1,1]])\n",
    "\n",
    "    B = np.array([2,2])\n",
    "\n",
    "    result = solve_equation_gauss_elimination(A, B)\n",
    "    expected = np.array([1, 1])\n",
    "    \n",
    "    match(expected, result)"
   ]
  },
  {
   "cell_type": "markdown",
   "metadata": {},
   "source": [
    "### Solve AX = B by jacobi"
   ]
  },
  {
   "cell_type": "code",
   "execution_count": 4,
   "metadata": {
    "tags": []
   },
   "outputs": [],
   "source": [
    "def solve_3_by_3_jacobi():\n",
    "    A = np.array(\n",
    "        [[3, -1, -1],\n",
    "        [-1, +3, -1],\n",
    "        [-1, -1, +3]]\n",
    "    )\n",
    "\n",
    "    B = np.array([1, 2, 1])\n",
    "\n",
    "    result = solve_equation_jacobi(A, B)\n",
    "    expected = np.array([1.25,  1.5, 1.25])\n",
    "    \n",
    "    match(expected, result, rtol=0.01)\n",
    "    \n",
    "def does_not_converge_jacobi():\n",
    "    A = np.array(\n",
    "        [[1, 2, 2],\n",
    "        [4, 4, 2],\n",
    "        [4, 6, 4]]\n",
    "    )\n",
    "\n",
    "    B = np.array([3, 6, 10])\n",
    "\n",
    "    result = solve_equation_jacobi(A, B)\n",
    "    expected = -1\n",
    "    \n",
    "    match(expected, result, rtol=0.01)\n"
   ]
  },
  {
   "cell_type": "code",
   "execution_count": 5,
   "metadata": {
    "tags": []
   },
   "outputs": [],
   "source": [
    "def solve_3_by_3_gauss_seidel():\n",
    "    A = np.array(\n",
    "        [[3, -1, -1],\n",
    "        [-1, +3, -1],\n",
    "        [-1, -1, +3]]\n",
    "    )\n",
    "\n",
    "    B = np.array([1, 2, 1])\n",
    "\n",
    "    result = solve_equation_gauss_seidel(A, B)\n",
    "    expected = np.array([1.25,  1.5, 1.25])\n",
    "    \n",
    "    match(expected, result, rtol=0.01)\n",
    "    \n",
    "def does_not_converge_gauss_seidel():\n",
    "    A = np.array(\n",
    "        [[1, 2, 2],\n",
    "        [4, 4, 2],\n",
    "        [4, 6, 4]]\n",
    "    )\n",
    "\n",
    "    B = np.array([3, 6, 10])\n",
    "\n",
    "    result = solve_equation_gauss_seidel(A, B)\n",
    "    expected = -1\n",
    "    \n",
    "    match(expected, result, rtol=0.01)"
   ]
  },
  {
   "cell_type": "markdown",
   "metadata": {},
   "source": [
    "### Eigenvalues and eigenvectors"
   ]
  },
  {
   "cell_type": "code",
   "execution_count": 6,
   "metadata": {},
   "outputs": [],
   "source": [
    "def test_get_eigenvector_power_method():\n",
    "    A = np.array([\n",
    "        [1,.2,0],\n",
    "        [.2,1,.5],\n",
    "        [.0,.5,1.0]\n",
    "    ])\n",
    "    \n",
    "    vector, value = eigen_power_method(A)\n",
    "    \n",
    "    expected_vector = np.transpose([1,2.69,2.5])\n",
    "    expected_value = np.float64(1.539)\n",
    "    \n",
    "    match(expected_vector, vector, rtol=0.01)\n",
    "    match(expected_value, value, rtol=0.01)    "
   ]
  },
  {
   "cell_type": "code",
   "execution_count": 13,
   "metadata": {},
   "outputs": [],
   "source": [
    "def test_get_eigen_jacobi():\n",
    "    A = np.array([\n",
    "        [1,.2,0],\n",
    "        [.2,1,.5],\n",
    "        [.0,.5,1.0]\n",
    "    ])\n",
    "    \n",
    "    vectors, values = eigen_jacobi(A)\n",
    "    \n",
    "    expected_vectors = np.array([\n",
    "        [0.928, 0.263, 0.263],\n",
    "        [0.0, 0.707, -0.707],\n",
    "        [-0.371, 0.657, 0.657]\n",
    "    ])\n",
    "    expected_values = np.array([1.0, 1.539, 0.462])\n",
    "    \n",
    "    match(expected_values, values, rtol=0.01)  \n",
    "    match(expected_vectors, vectors, rtol=0.01)"
   ]
  },
  {
   "cell_type": "code",
   "execution_count": 14,
   "metadata": {
    "tags": []
   },
   "outputs": [
    {
     "name": "stdout",
     "output_type": "stream",
     "text": [
      "✅ pass!\n",
      "✅ pass!\n",
      "✅ pass!\n",
      "✅ pass!\n",
      "✅ pass!\n",
      "✅ pass!\n",
      "✅ pass!\n",
      "✅ pass!\n"
     ]
    }
   ],
   "source": [
    "%run ./linear_algebra.ipynb\n",
    "\n",
    "solve_cholesky_decompose()\n",
    "solve_3_by_3_gauss_seidel()\n",
    "does_not_converge_gauss_seidel()\n",
    "solve_3_by_3_gauss()\n",
    "test_get_eigenvector_power_method()\n",
    "test_get_eigen_jacobi()\n",
    "# solve_2_by_2_pivot_gauss()"
   ]
  },
  {
   "cell_type": "code",
   "execution_count": null,
   "metadata": {},
   "outputs": [],
   "source": []
  }
 ],
 "metadata": {
  "kernelspec": {
   "display_name": "Python 3.8.5 64-bit",
   "language": "python",
   "name": "python38564bit2d833a75566a4d3d90bb98e5ae80268b"
  },
  "language_info": {
   "codemirror_mode": {
    "name": "ipython",
    "version": 3
   },
   "file_extension": ".py",
   "mimetype": "text/x-python",
   "name": "python",
   "nbconvert_exporter": "python",
   "pygments_lexer": "ipython3",
   "version": "3.8.5"
  }
 },
 "nbformat": 4,
 "nbformat_minor": 4
}
