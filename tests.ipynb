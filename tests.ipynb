{
 "cells": [
  {
   "cell_type": "markdown",
   "metadata": {},
   "source": [
    "# Tests"
   ]
  },
  {
   "cell_type": "markdown",
   "metadata": {},
   "source": [
    "### Property checks"
   ]
  },
  {
   "cell_type": "markdown",
   "metadata": {},
   "source": [
    "#### Simetric check"
   ]
  },
  {
   "cell_type": "code",
   "execution_count": null,
   "metadata": {},
   "outputs": [],
   "source": [
    "def test_is_simetric():\n",
    "    def test_is_simetric_true():\n",
    "        A = np.array([\n",
    "            [1, 7, 3],\n",
    "            [7, 4, -5],\n",
    "            [3, -5, 6]\n",
    "        ])\n",
    "\n",
    "        result = is_simetric(A)\n",
    "        match(True, result)\n",
    "    \n",
    "    def test_is_simetric_false():\n",
    "        A = np.array([\n",
    "            [1, 7, 3],\n",
    "            [7, 4, -5],\n",
    "            [1, -5, 6]\n",
    "        ])\n",
    "\n",
    "        result = is_simetric(A)\n",
    "        match(False, result) \n",
    "    \n",
    "    test_is_simetric_true()\n",
    "    test_is_simetric_false()"
   ]
  },
  {
   "cell_type": "markdown",
   "metadata": {},
   "source": [
    "#### Diagonal dominance"
   ]
  },
  {
   "cell_type": "code",
   "execution_count": 2,
   "metadata": {},
   "outputs": [],
   "source": [
    "def test_diagonal_dominance():\n",
    "    def test_diagonal_dominance_false():\n",
    "        A = np.array([\n",
    "            [1, 2, 2],\n",
    "            [4, 4, 2],\n",
    "            [4, 6, 4]\n",
    "        ])\n",
    "\n",
    "        result = is_diagonal_dominant(A)\n",
    "\n",
    "        match(False, result)\n",
    "    \n",
    "    def test_diagonal_dominance_true():\n",
    "        A = np.array([\n",
    "            [3, -2, 1],\n",
    "            [1, -3, 2],\n",
    "            [-1, 2, 4]\n",
    "        ])\n",
    "\n",
    "        result = is_diagonal_dominant(A)\n",
    "\n",
    "        match(True, result)\n",
    "    \n",
    "    test_diagonal_dominance_false()\n",
    "    test_diagonal_dominance_true()"
   ]
  },
  {
   "cell_type": "markdown",
   "metadata": {},
   "source": [
    "#### Cholesky Decompostion"
   ]
  },
  {
   "cell_type": "code",
   "execution_count": 3,
   "metadata": {
    "tags": []
   },
   "outputs": [],
   "source": [
    "def test_cholesky_decompose():\n",
    "    A = np.array(\n",
    "        [[1, .2, .4],\n",
    "        [.2, 1, .5],\n",
    "        [.4, .5, 1]]\n",
    "    )\n",
    "\n",
    "    result = cholesky_decompose(A)\n",
    "    \n",
    "    expected = np.array([\n",
    "        [1,  0, 0],\n",
    "        [.2,.98,0],\n",
    "        [.4,.43,.81]\n",
    "    ])\n",
    "    \n",
    "    match(expected, result, rtol=0.01)"
   ]
  },
  {
   "cell_type": "markdown",
   "metadata": {},
   "source": [
    "#### Solve AX = B by Gauss elimination"
   ]
  },
  {
   "cell_type": "code",
   "execution_count": 4,
   "metadata": {
    "tags": []
   },
   "outputs": [],
   "source": [
    "def test_solve_gauss():\n",
    "    def test_solve_gauss_no_pivotting():\n",
    "        A = np.array([\n",
    "            [1, 2, 2],\n",
    "            [4, 4, 2],\n",
    "            [4, 6, 4]\n",
    "        ])\n",
    "\n",
    "        B = np.array([ 3, 6, 10])\n",
    "\n",
    "        result = solve_gauss_elimination(A, B)\n",
    "        expected = np.array([-1.,  3., -1.])\n",
    "\n",
    "        match(expected, result)\n",
    "\n",
    "    def test_solve_gauss_with_pivotting(): \n",
    "        A = np.array([\n",
    "            [0., 1., 1.],\n",
    "            [1., 2., 1.],\n",
    "            [1., 1., -1.]\n",
    "        ])\n",
    "\n",
    "        B = np.array([4., 7., 3.])\n",
    "\n",
    "        result = solve_gauss_elimination(A, B)\n",
    "        expected = np.array([-1., 4., 0])\n",
    "\n",
    "        match(expected, result)\n",
    "    \n",
    "    test_solve_gauss_no_pivotting()\n",
    "    test_solve_gauss_with_pivotting() "
   ]
  },
  {
   "cell_type": "markdown",
   "metadata": {},
   "source": [
    "#### Solve AX = B by Jacobi"
   ]
  },
  {
   "cell_type": "code",
   "execution_count": 5,
   "metadata": {
    "tags": []
   },
   "outputs": [],
   "source": [
    "def test_solve_jacobi():\n",
    "    def test_solve_jacobi_converges():\n",
    "        A = np.array([\n",
    "            [3, -1, -1],\n",
    "            [-1, +3, -1],\n",
    "            [-1, -1, +3]\n",
    "        ])\n",
    "\n",
    "        B = np.array([1, 2, 1])\n",
    "\n",
    "        result = solve_jacobi(A, B)\n",
    "        expected = np.array([1.25,  1.5, 1.25])\n",
    "\n",
    "        match(expected, result, rtol=0.01)\n",
    "    \n",
    "    def test_solve_jacobi_diverges():\n",
    "        A = np.array([\n",
    "            [1, 2, 2],\n",
    "            [4, 4, 2],\n",
    "            [4, 6, 4]\n",
    "        ])\n",
    "\n",
    "        B = np.array([3, 6, 10])\n",
    "\n",
    "        result = solve_jacobi(A, B)\n",
    "        expected = -1\n",
    "\n",
    "        match(expected, result)\n",
    "    \n",
    "    test_solve_jacobi_converges()\n",
    "    test_solve_jacobi_diverges()"
   ]
  },
  {
   "cell_type": "markdown",
   "metadata": {},
   "source": [
    "#### Solve AX = B by Gauss-Seidel"
   ]
  },
  {
   "cell_type": "code",
   "execution_count": 6,
   "metadata": {
    "tags": []
   },
   "outputs": [],
   "source": [
    "def test_solve_gauss_seidel():\n",
    "    def test_solve_gauss_seidel_converges():\n",
    "        A = np.array(\n",
    "            [[3, -1, -1],\n",
    "            [-1, +3, -1],\n",
    "            [-1, -1, +3]]\n",
    "        )\n",
    "\n",
    "        B = np.array([1, 2, 1])\n",
    "\n",
    "        result = solve_gauss_seidel(A, B)\n",
    "        expected = np.array([1.25,  1.5, 1.25])\n",
    "\n",
    "        match(expected, result, rtol=0.01)\n",
    "\n",
    "    def test_solve_gauss_seidel_diverges():\n",
    "        A = np.array([\n",
    "            [1, 2, 2],\n",
    "            [4, 4, 2],\n",
    "            [4, 6, 4]\n",
    "        ])\n",
    "\n",
    "        B = np.array([3, 6, 10])\n",
    "\n",
    "        result = solve_gauss_seidel(A, B)\n",
    "        expected = -1\n",
    "\n",
    "        match(expected, result)\n",
    "    \n",
    "    test_solve_gauss_seidel_converges()\n",
    "    test_solve_gauss_seidel_diverges()"
   ]
  },
  {
   "cell_type": "markdown",
   "metadata": {},
   "source": [
    "#### Greatest eigenvalue and eigenvector by power method"
   ]
  },
  {
   "cell_type": "code",
   "execution_count": 7,
   "metadata": {},
   "outputs": [],
   "source": [
    "def test_eigen_power_method():\n",
    "    A = np.array([\n",
    "        [1,.2,0],\n",
    "        [.2,1,.5],\n",
    "        [.0,.5,1.0]\n",
    "    ])\n",
    "    \n",
    "    vector, value = eigen_power_method(A)\n",
    "    \n",
    "    expected_vector = np.transpose([1,2.69,2.5])\n",
    "    expected_value = np.float64(1.539)\n",
    "    \n",
    "    match(expected_vector, vector, rtol=0.01)\n",
    "    match(expected_value, value, rtol=0.01)    "
   ]
  },
  {
   "cell_type": "markdown",
   "metadata": {},
   "source": [
    "#### Eigenvalues and eigenvectors by jacobi"
   ]
  },
  {
   "cell_type": "code",
   "execution_count": 8,
   "metadata": {},
   "outputs": [],
   "source": [
    "def test_eigen_jacobi():\n",
    "    A = np.array([\n",
    "        [1,.2,0],\n",
    "        [.2,1,.5],\n",
    "        [.0,.5,1.0]\n",
    "    ])\n",
    "    \n",
    "    vectors, values = eigen_jacobi(A)\n",
    "    \n",
    "    expected_vectors = np.array([\n",
    "        [0.928, 0.263, 0.263],\n",
    "        [0.0, 0.707, -0.707],\n",
    "        [-0.371, 0.657, 0.657]\n",
    "    ])\n",
    "    expected_values = np.array([1.0, 1.539, 0.462])\n",
    "    \n",
    "    match(expected_values, values, rtol=0.01)  \n",
    "    match(expected_vectors, vectors, rtol=0.01)"
   ]
  },
  {
   "cell_type": "markdown",
   "metadata": {},
   "source": [
    "#### Least squares"
   ]
  },
  {
   "cell_type": "code",
   "execution_count": 9,
   "metadata": {},
   "outputs": [],
   "source": [
    "def test_least_squares():\n",
    "    P = np.array([\n",
    "        [1., 2.0],\n",
    "        [2., 3.5],\n",
    "        [3., 6.5]\n",
    "    ])\n",
    "    \n",
    "    B = least_squares(P)\n",
    "    expected_B = np.array([-.5,2.25])\n",
    "    \n",
    "    match(expected_B, B, rtol=0.01)\n",
    "    "
   ]
  },
  {
   "cell_type": "markdown",
   "metadata": {},
   "source": [
    "## Run all above"
   ]
  },
  {
   "cell_type": "code",
   "execution_count": 10,
   "metadata": {
    "tags": []
   },
   "outputs": [
    {
     "name": "stdout",
     "output_type": "stream",
     "text": [
      "✅ pass!\n",
      "✅ pass!\n",
      "✅ pass!\n",
      "✅ pass!\n",
      "✅ pass!\n",
      "✅ pass!\n",
      "✅ pass!\n",
      "✅ pass!\n",
      "✅ pass!\n",
      "✅ pass!\n",
      "✅ pass!\n",
      "✅ pass!\n",
      "✅ pass!\n",
      "✅ pass!\n",
      "✅ pass!\n",
      "✅ pass!\n"
     ]
    }
   ],
   "source": [
    "%run ./linear_algebra.ipynb\n",
    "%run ./matcher.ipynb\n",
    "\n",
    "test_is_simetric()\n",
    "test_diagonal_dominance()\n",
    "test_cholesky_decompose()\n",
    "test_solve_gauss()\n",
    "test_solve_jacobi()\n",
    "test_solve_gauss_seidel()\n",
    "test_eigen_power_method()\n",
    "test_eigen_jacobi()\n",
    "test_least_squares()"
   ]
  }
 ],
 "metadata": {
  "kernelspec": {
   "display_name": "Python 3.8.5 64-bit",
   "language": "python",
   "name": "python38564bit2d833a75566a4d3d90bb98e5ae80268b"
  },
  "language_info": {
   "codemirror_mode": {
    "name": "ipython",
    "version": 3
   },
   "file_extension": ".py",
   "mimetype": "text/x-python",
   "name": "python",
   "nbconvert_exporter": "python",
   "pygments_lexer": "ipython3",
   "version": "3.8.5"
  }
 },
 "nbformat": 4,
 "nbformat_minor": 4
}
