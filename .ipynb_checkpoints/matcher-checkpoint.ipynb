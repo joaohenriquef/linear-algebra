{
 "cells": [
  {
   "cell_type": "code",
   "execution_count": 2,
   "metadata": {},
   "outputs": [],
   "source": [
    "def match(expected, result, rtol=None):\n",
    "    if (type(expected) != type(result)):\n",
    "        raise TypeError(f'❌ expected {type(expected)}, got: {type(result)}',)\n",
    "    \n",
    "    # Bool\n",
    "    if (type(expected) == bool):\n",
    "        if (expected != result):\n",
    "            raise ValueError(f'❌ expected {expected}, got: {result}')\n",
    "        return print(\"✅ pass!\")\n",
    "    \n",
    "    # Arrays\n",
    "    if (type(expected) == np.ndarray):\n",
    "        if (rtol is None and not np.array_equal(expected,result)):\n",
    "            raise ValueError(f'❌ expected {expected}, got: {result}')\n",
    "    \n",
    "        if (rtol is not None and not np.allclose(expected,result, rtol)):\n",
    "            raise ValueError(f'❌ expected {expected}, got: {result}')\n",
    "        \n",
    "        return print(\"✅ pass!\")\n",
    "    \n",
    "    # Numbers\n",
    "    if ((type(expected) == int) or (type(expected) == float) or (type(expected) == np.float64)):\n",
    "        if (rtol is None and expected != result):\n",
    "            raise ValueError(f'❌ expected {expected}, got: {result}',)\n",
    "\n",
    "        if ((rtol is not None) and (result > expected + rtol or result < expected - rtol)):\n",
    "            raise ValueError(f'❌ expected {expected}, got: {result}',)\n",
    "    \n",
    "        return print(\"✅ pass!\")\n",
    "    \n",
    "    raise ValueError(f'❌ could not match!')"
   ]
  },
  {
   "cell_type": "code",
   "execution_count": null,
   "metadata": {},
   "outputs": [],
   "source": []
  }
 ],
 "metadata": {
  "kernelspec": {
   "display_name": "Python 3.8.5 64-bit",
   "language": "python",
   "name": "python38564bit2d833a75566a4d3d90bb98e5ae80268b"
  },
  "language_info": {
   "codemirror_mode": {
    "name": "ipython",
    "version": 3
   },
   "file_extension": ".py",
   "mimetype": "text/x-python",
   "name": "python",
   "nbconvert_exporter": "python",
   "pygments_lexer": "ipython3",
   "version": "3.8.5"
  }
 },
 "nbformat": 4,
 "nbformat_minor": 4
}
