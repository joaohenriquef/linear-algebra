{
 "cells": [
  {
   "cell_type": "code",
   "execution_count": 1,
   "metadata": {},
   "outputs": [],
   "source": [
    "import numpy as np"
   ]
  },
  {
   "cell_type": "markdown",
   "metadata": {},
   "source": [
    "# Implementation"
   ]
  },
  {
   "cell_type": "markdown",
   "metadata": {},
   "source": [
    "### LU Decomposition"
   ]
  },
  {
   "cell_type": "code",
   "execution_count": 2,
   "metadata": {},
   "outputs": [],
   "source": [
    "# def pivot(matrix):\n",
    "#     order = matrix.shape[0]\n",
    "#     for line in range(order-1):\n",
    "#         if (matrix[line][line]) = 0\n",
    "\n",
    "def get_matrix_decomposition_step(matrix, step_index):        \n",
    "        order = matrix.shape[0]\n",
    "        pivot = matrix[step_index, step_index]\n",
    "        \n",
    "        if (pivot == 0):\n",
    "            raise ValueError('Pivot is 0!', matrix, step_index)\n",
    "            return -1\n",
    "#           return get_matrix_decomposition_step(pivot(matrix), step_index)\n",
    "        \n",
    "        lower = np.identity(order)\n",
    "        upper = np.identity(order)\n",
    "        \n",
    "        for line_index in range (step_index + 1, order):\n",
    "            element = matrix[line_index, step_index] / pivot\n",
    "            \n",
    "            lower[line_index, step_index] = element\n",
    "            upper[line_index, step_index] = - element\n",
    "            \n",
    "        return lower, upper\n",
    "    \n",
    "def lu_decompose(matrix):\n",
    "    order = matrix.shape[0]\n",
    "    upper = matrix\n",
    "    upper_combination = np.identity(order)\n",
    "    lower = np.identity(order)\n",
    "    \n",
    "    for step_index in range (order - 1):\n",
    "        lower_step, upper_step = get_matrix_decomposition_step(upper, step_index)\n",
    "        upper_combination = upper_step @ upper_combination\n",
    "        lower = lower_step@lower\n",
    "        upper = upper_step@upper\n",
    "\n",
    "    return lower, upper, upper_combination\n"
   ]
  },
  {
   "cell_type": "markdown",
   "metadata": {},
   "source": [
    "### Gauss elimination"
   ]
  },
  {
   "cell_type": "code",
   "execution_count": 3,
   "metadata": {},
   "outputs": [],
   "source": [
    "def gauss_elimination(matrix):\n",
    "    _, upper, upper_combination = lu_decompose(matrix)\n",
    "    return upper, upper_combination"
   ]
  },
  {
   "cell_type": "markdown",
   "metadata": {},
   "source": [
    "### Solve AX = B system of equations"
   ]
  },
  {
   "cell_type": "code",
   "execution_count": 4,
   "metadata": {},
   "outputs": [],
   "source": [
    "def solve_equation_gauss_elimination(A, B):\n",
    "    order = A.shape[0]\n",
    "    last_index = order-1\n",
    "\n",
    "    A, combination_matrix = gauss_elimination(A)\n",
    "    B = combination_matrix @ B\n",
    "    \n",
    "    X = np.zeros(order)\n",
    "    \n",
    "    X[last_index] = B[last_index] / A[last_index, last_index]\n",
    "        \n",
    "    for x_index in range(last_index - 1, -1, -1): # from n-1 to 0\n",
    "        backwards_sum = 0\n",
    "        for sum_index in range(last_index, x_index, -1):\n",
    "            backwards_sum += A[x_index, sum_index] * X[sum_index] \n",
    "        \n",
    "        X[x_index] = (B[x_index] - backwards_sum) / A[x_index, x_index]\n",
    "        \n",
    "    return X"
   ]
  },
  {
   "cell_type": "markdown",
   "metadata": {},
   "source": [
    "### Determinant"
   ]
  },
  {
   "cell_type": "code",
   "execution_count": 20,
   "metadata": {},
   "outputs": [],
   "source": [
    "def determinant(matrix):\n",
    "    # permutation matrix missing here\n",
    "    \n",
    "    order = matrix.shape[0]\n",
    "    upper, lower, _ = lu_decompose(matrix)\n",
    "    lower_det = 1\n",
    "    upper_det = 1\n",
    "    \n",
    "    for index in range(order):\n",
    "        lower_det = lower[index, index] * lower_det\n",
    "        upper_det = upper[index, index] * upper_det\n",
    "        \n",
    "    return lower_det * upper_det"
   ]
  },
  {
   "cell_type": "markdown",
   "metadata": {},
   "source": [
    "# Tests"
   ]
  },
  {
   "cell_type": "code",
   "execution_count": 6,
   "metadata": {},
   "outputs": [],
   "source": [
    "def match(expected, result):\n",
    "    if (type(expected) != type(result)):\n",
    "        raise TypeError(f'❌ expected {expected}, got: {result}',)\n",
    "        return\n",
    "    \n",
    "    if (type(expected) != np.ndarray and expected != result):\n",
    "        raise ValueError(f'❌ expected {expected}, got: {result}',)\n",
    "        return \n",
    "    \n",
    "    if (not np.array_equal(expected,result)):\n",
    "        raise ValueError(f'❌ expected {expected}, got: {result}')\n",
    "        return \n",
    "        \n",
    "    return print(\"✅ pass!\")"
   ]
  },
  {
   "cell_type": "markdown",
   "metadata": {},
   "source": [
    "### Equation Solving"
   ]
  },
  {
   "cell_type": "code",
   "execution_count": 9,
   "metadata": {},
   "outputs": [
    {
     "name": "stdout",
     "output_type": "stream",
     "text": [
      "✅ pass!\n"
     ]
    }
   ],
   "source": [
    "def solve_3_by_3():\n",
    "    A = np.array(\n",
    "        [[1, 2, 2],\n",
    "        [4, 4, 2],\n",
    "        [4, 6, 4]]\n",
    "    )\n",
    "\n",
    "    B = np.array([ 3, 6, 10])\n",
    "\n",
    "    result = solve_equation_gauss_elimination(A, B)\n",
    "    expected = np.array([-1.,  3., -1.])\n",
    "    \n",
    "    match(expected, result)\n",
    "    \n",
    "solve_3_by_3()"
   ]
  },
  {
   "cell_type": "code",
   "execution_count": 18,
   "metadata": {},
   "outputs": [],
   "source": [
    "def solve_2_by_2_pivot(): \n",
    "    A = np.array([[1,1],[1,1]])\n",
    "\n",
    "    B = np.array([2,2])\n",
    "\n",
    "    result = solve_equation_gauss_elimination(A, B)\n",
    "    expected = np.array([1, 1])\n",
    "    \n",
    "    match(expected, result)\n",
    "    \n",
    "# solve_2_by_2_pivot()"
   ]
  },
  {
   "cell_type": "code",
   "execution_count": 8,
   "metadata": {},
   "outputs": [],
   "source": [
    "# A = np.array(\n",
    "#     [[1, 2, 2],\n",
    "#     [4, 4, 2],\n",
    "#     [4, 6, -4]]\n",
    "# )"
   ]
  },
  {
   "cell_type": "code",
   "execution_count": 10,
   "metadata": {},
   "outputs": [],
   "source": [
    "# A = np.array(\n",
    "#     [[1,2,4,22],[1,4,5,3],[0,4,5,2],[1,3,5,-9]]\n",
    "# )"
   ]
  },
  {
   "cell_type": "code",
   "execution_count": 7,
   "metadata": {},
   "outputs": [],
   "source": [
    "# A = np.array(\n",
    "#     [[5, -4, 1, 0],\n",
    "#     [-4, 6, -4, 1],\n",
    "#     [1, -4, 6, -4],\n",
    "#     [0, 1, -4, 5]]\n",
    "# )"
   ]
  }
 ],
 "metadata": {
  "kernelspec": {
   "display_name": "Python 3",
   "language": "python",
   "name": "python3"
  },
  "language_info": {
   "codemirror_mode": {
    "name": "ipython",
    "version": 3
   },
   "file_extension": ".py",
   "mimetype": "text/x-python",
   "name": "python",
   "nbconvert_exporter": "python",
   "pygments_lexer": "ipython3",
   "version": "3.8.3"
  }
 },
 "nbformat": 4,
 "nbformat_minor": 4
}
