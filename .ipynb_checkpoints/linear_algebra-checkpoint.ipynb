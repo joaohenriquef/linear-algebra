{
 "cells": [
  {
   "cell_type": "code",
   "execution_count": 69,
   "metadata": {},
   "outputs": [],
   "source": [
    "import numpy as np"
   ]
  },
  {
   "cell_type": "markdown",
   "metadata": {},
   "source": [
    "# Gauss Elimination"
   ]
  },
  {
   "cell_type": "markdown",
   "metadata": {},
   "source": [
    "## Inputs"
   ]
  },
  {
   "cell_type": "code",
   "execution_count": 70,
   "metadata": {},
   "outputs": [],
   "source": [
    "A = np.matrix(\n",
    "    [[5, -4, 1, 0],\n",
    "    [-4, 6, -4, 1],\n",
    "    [1, -4, 6, -4],\n",
    "    [0, 1, -4, 5]]\n",
    ")"
   ]
  },
  {
   "cell_type": "code",
   "execution_count": 71,
   "metadata": {},
   "outputs": [],
   "source": [
    "B = [ -1, 2, 1, 3]"
   ]
  },
  {
   "cell_type": "markdown",
   "metadata": {},
   "source": [
    "## Algorithm"
   ]
  },
  {
   "cell_type": "code",
   "execution_count": 72,
   "metadata": {},
   "outputs": [],
   "source": [
    "def get_step_linear_combination_matrix(matrix_a, step_index):\n",
    "    order = matrix_a.shape[0];\n",
    "    result = np.identity(order);\n",
    "    pivot = matrix_a[step_index, step_index]\n",
    "        \n",
    "    for line_index in range (step_index + 1, order):\n",
    "        result[line_index, step_index] = (- matrix_a[line_index, step_index] / pivot)\n",
    "    \n",
    "    return result\n",
    "\n",
    "    "
   ]
  },
  {
   "cell_type": "code",
   "execution_count": 73,
   "metadata": {},
   "outputs": [],
   "source": [
    "def run_gaussian_elimination(matrix_a):\n",
    "    order = matrix_a.shape[0]\n",
    "    result = matrix_a\n",
    "    \n",
    "    for step_index in range(order-1):\n",
    "        print(f'Iteration: {step_index} \\n')\n",
    "        current_multiplier = get_step_linear_combination_matrix(result, step_index)\n",
    "        print(f'Multiplier:\\n{current_multiplier}\\n')\n",
    "        result = current_multiplier@result\n",
    "        print(f'Result:\\n {result}\\n')\n",
    "        \n",
    "    return result\n",
    "    "
   ]
  },
  {
   "cell_type": "code",
   "execution_count": 74,
   "metadata": {},
   "outputs": [
    {
     "name": "stdout",
     "output_type": "stream",
     "text": [
      "Iteration: 0 \n",
      "\n",
      "Multiplier:\n",
      "[[ 1.   0.   0.   0. ]\n",
      " [ 0.8  1.   0.   0. ]\n",
      " [-0.2  0.   1.   0. ]\n",
      " [ 0.   0.   0.   1. ]]\n",
      "\n",
      "Result:\n",
      " [[ 5.  -4.   1.   0. ]\n",
      " [ 0.   2.8 -3.2  1. ]\n",
      " [ 0.  -3.2  5.8 -4. ]\n",
      " [ 0.   1.  -4.   5. ]]\n",
      "\n",
      "Iteration: 1 \n",
      "\n",
      "Multiplier:\n",
      "[[ 1.          0.          0.          0.        ]\n",
      " [ 0.          1.          0.          0.        ]\n",
      " [ 0.          1.14285714  1.          0.        ]\n",
      " [ 0.         -0.35714286  0.          1.        ]]\n",
      "\n",
      "Result:\n",
      " [[ 5.         -4.          1.          0.        ]\n",
      " [ 0.          2.8        -3.2         1.        ]\n",
      " [ 0.          0.          2.14285714 -2.85714286]\n",
      " [ 0.          0.         -2.85714286  4.64285714]]\n",
      "\n",
      "Iteration: 2 \n",
      "\n",
      "Multiplier:\n",
      "[[1.         0.         0.         0.        ]\n",
      " [0.         1.         0.         0.        ]\n",
      " [0.         0.         1.         0.        ]\n",
      " [0.         0.         1.33333333 1.        ]]\n",
      "\n",
      "Result:\n",
      " [[ 5.         -4.          1.          0.        ]\n",
      " [ 0.          2.8        -3.2         1.        ]\n",
      " [ 0.          0.          2.14285714 -2.85714286]\n",
      " [ 0.          0.          0.          0.83333333]]\n",
      "\n"
     ]
    },
    {
     "data": {
      "text/plain": [
       "matrix([[ 5.        , -4.        ,  1.        ,  0.        ],\n",
       "        [ 0.        ,  2.8       , -3.2       ,  1.        ],\n",
       "        [ 0.        ,  0.        ,  2.14285714, -2.85714286],\n",
       "        [ 0.        ,  0.        ,  0.        ,  0.83333333]])"
      ]
     },
     "execution_count": 74,
     "metadata": {},
     "output_type": "execute_result"
    }
   ],
   "source": [
    "run_gaussian_elimination(A)"
   ]
  },
  {
   "cell_type": "code",
   "execution_count": null,
   "metadata": {},
   "outputs": [],
   "source": []
  }
 ],
 "metadata": {
  "kernelspec": {
   "display_name": "Python 3",
   "language": "python",
   "name": "python3"
  },
  "language_info": {
   "codemirror_mode": {
    "name": "ipython",
    "version": 3
   },
   "file_extension": ".py",
   "mimetype": "text/x-python",
   "name": "python",
   "nbconvert_exporter": "python",
   "pygments_lexer": "ipython3",
   "version": "3.8.3"
  }
 },
 "nbformat": 4,
 "nbformat_minor": 4
}
