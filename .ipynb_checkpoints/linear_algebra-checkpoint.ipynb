{
 "cells": [
  {
   "cell_type": "markdown",
   "metadata": {},
   "source": [
    "# Linear Algebra Algorithms"
   ]
  },
  {
   "cell_type": "markdown",
   "metadata": {},
   "source": [
    "## Implementation"
   ]
  },
  {
   "cell_type": "code",
   "execution_count": 1,
   "metadata": {},
   "outputs": [],
   "source": [
    "import numpy as np\n",
    "import math"
   ]
  },
  {
   "cell_type": "markdown",
   "metadata": {},
   "source": [
    "### Matrix general utils"
   ]
  },
  {
   "cell_type": "markdown",
   "metadata": {},
   "source": [
    "#### Determinant"
   ]
  },
  {
   "cell_type": "code",
   "execution_count": 2,
   "metadata": {},
   "outputs": [],
   "source": [
    "def determinant(matrix):\n",
    "    # TODO: pivotting missing here\n",
    "    \n",
    "    order = matrix.shape[0]\n",
    "    upper, lower, _ = lu_decompose(matrix)\n",
    "    lower_det = 1\n",
    "    upper_det = 1\n",
    "    \n",
    "    for index in range(order):\n",
    "        lower_det = lower[index, index] * lower_det\n",
    "        upper_det = upper[index, index] * upper_det\n",
    "        \n",
    "    return lower_det * upper_det"
   ]
  },
  {
   "cell_type": "markdown",
   "metadata": {},
   "source": [
    "#### Simetric check"
   ]
  },
  {
   "cell_type": "code",
   "execution_count": 3,
   "metadata": {},
   "outputs": [],
   "source": [
    "def check_simetric(matrix):\n",
    "    order = matrix.shape[0]\n",
    "    \n",
    "    for i in range(order):\n",
    "        for j in range(order):\n",
    "            if matrix[i,j] != matrix[j,i]:\n",
    "                return False\n",
    " \n",
    "    return True"
   ]
  },
  {
   "cell_type": "markdown",
   "metadata": {},
   "source": [
    "#### Simetric and positive defined check"
   ]
  },
  {
   "cell_type": "code",
   "execution_count": 4,
   "metadata": {},
   "outputs": [],
   "source": [
    "def check_simetric_positive_defined(matrix):\n",
    "    order = matrix.shape[0]\n",
    "    \n",
    "    for i in range(order):\n",
    "        if matrix[i,i] < 0:\n",
    "            return False\n",
    "        \n",
    "        for j in range(order):\n",
    "            if matrix[i,j] != matrix[j,i]:\n",
    "                return False\n",
    "    \n",
    "    return True"
   ]
  },
  {
   "cell_type": "markdown",
   "metadata": {},
   "source": [
    "#### Diagonal dominance check"
   ]
  },
  {
   "cell_type": "code",
   "execution_count": 5,
   "metadata": {},
   "outputs": [],
   "source": [
    "def check_diagonal_dominance(A):\n",
    "    order = A.shape[0]\n",
    "    for diagonal_index in range(order):\n",
    "        row_sum = 0\n",
    "        column_sum = 0\n",
    "        diagonal_item = A[diagonal_index, diagonal_index]\n",
    "        \n",
    "        for item_index in range(order):\n",
    "            row_sum += A[diagonal_index, item_index]\n",
    "            column_sum += A[item_index, diagonal_index]\n",
    "        \n",
    "        if (diagonal_item < row_sum or diagonal_item < column_sum):\n",
    "            return False\n",
    "        \n",
    "        return True"
   ]
  },
  {
   "cell_type": "markdown",
   "metadata": {},
   "source": [
    "### Decomposition"
   ]
  },
  {
   "cell_type": "markdown",
   "metadata": {},
   "source": [
    "#### LU Decomposition"
   ]
  },
  {
   "cell_type": "code",
   "execution_count": 6,
   "metadata": {},
   "outputs": [],
   "source": [
    "# TODO: finish pivoting\n",
    "# def pivot(matrix):\n",
    "#     order = matrix.shape[0]\n",
    "#     for line in range(order-1):\n",
    "#         if (matrix[line][line]) = 0\n",
    "\n",
    "def get_matrix_decomposition_step(matrix, step_index):        \n",
    "        order = matrix.shape[0]\n",
    "        pivot = matrix[step_index, step_index]\n",
    "        \n",
    "        if (pivot == 0):\n",
    "            raise ValueError('Pivot is 0!', matrix, step_index)\n",
    "            return\n",
    "            # TODO: pivotting missing here\n",
    "#           return get_matrix_decomposition_step(pivot(matrix), step_index)\n",
    "        \n",
    "        lower = np.identity(order)\n",
    "        upper = np.identity(order)\n",
    "        \n",
    "        for line_index in range (step_index + 1, order):\n",
    "            element = matrix[line_index, step_index] / pivot\n",
    "            \n",
    "            lower[line_index, step_index] = element\n",
    "            upper[line_index, step_index] = - element\n",
    "            \n",
    "        return lower, upper\n",
    "    \n",
    "def lu_decompose(matrix):\n",
    "    order = matrix.shape[0]\n",
    "    upper = matrix\n",
    "    upper_combination = np.identity(order)\n",
    "    lower = np.identity(order)\n",
    "    \n",
    "    for step_index in range (order - 1):\n",
    "        lower_step, upper_step = get_matrix_decomposition_step(upper, step_index)\n",
    "        upper_combination = upper_step @ upper_combination\n",
    "        lower = lower_step@lower\n",
    "        upper = upper_step@upper\n",
    "\n",
    "    return lower, upper, upper_combination\n"
   ]
  },
  {
   "cell_type": "markdown",
   "metadata": {},
   "source": [
    "#### Cholesky decomposition"
   ]
  },
  {
   "cell_type": "code",
   "execution_count": 7,
   "metadata": {},
   "outputs": [],
   "source": [
    "def cholesky_decompose(A):\n",
    "    order = A.shape[0]\n",
    "\n",
    "    L = np.zeros((order, order))\n",
    "\n",
    "    for i in range(order):\n",
    "        for k in range(i+1):\n",
    "            tmp_sum = sum(L[i,j] * L[k,j] for j in range(k))\n",
    "            \n",
    "            if (i == k):\n",
    "                L[i,k] = math.sqrt(A[i,i] - tmp_sum)\n",
    "            else:\n",
    "                L[i,k] = (1.0 / L[k,k] * (A[i,k] - tmp_sum))\n",
    "    return L"
   ]
  },
  {
   "cell_type": "markdown",
   "metadata": {},
   "source": [
    "#### Gauss elimination"
   ]
  },
  {
   "cell_type": "code",
   "execution_count": 8,
   "metadata": {},
   "outputs": [],
   "source": [
    "def gauss_elimination(matrix):\n",
    "    _, upper, upper_combination = lu_decompose(matrix)\n",
    "    return upper, upper_combination"
   ]
  },
  {
   "cell_type": "markdown",
   "metadata": {},
   "source": [
    "### AX = B solving"
   ]
  },
  {
   "cell_type": "markdown",
   "metadata": {},
   "source": [
    "#### By gauss elimination"
   ]
  },
  {
   "cell_type": "code",
   "execution_count": 9,
   "metadata": {},
   "outputs": [],
   "source": [
    "def solve_equation_gauss_elimination(A, B):\n",
    "    order = A.shape[0]\n",
    "    last_index = order-1\n",
    "\n",
    "    A, combination_matrix = gauss_elimination(A)\n",
    "    B = combination_matrix @ B\n",
    "    \n",
    "    X = np.zeros(order)\n",
    "    \n",
    "    X[last_index] = B[last_index] / A[last_index, last_index]\n",
    "        \n",
    "    # TODO: this doesn't need to be backwards ???\n",
    "    for x_index in range(last_index - 1, -1, -1): # from n-1 to 0 \n",
    "        backwards_sum = 0\n",
    "        for sum_index in range(last_index, x_index, -1):\n",
    "            backwards_sum += A[x_index, sum_index] * X[sum_index] \n",
    "        \n",
    "        X[x_index] = (B[x_index] - backwards_sum) / A[x_index, x_index]\n",
    "        \n",
    "    return X"
   ]
  },
  {
   "cell_type": "markdown",
   "metadata": {},
   "source": [
    "#### By Jacobi method"
   ]
  },
  {
   "cell_type": "code",
   "execution_count": 10,
   "metadata": {},
   "outputs": [],
   "source": [
    "def solve_equation_jacobi(A, B, tolerance=0.000001):\n",
    "    order = A.shape[0]\n",
    "    residue = tolerance + 1\n",
    "    X = np.ones(order)\n",
    "    \n",
    "    if (not check_diagonal_dominance(A)):\n",
    "        return -1\n",
    "    \n",
    "    while(residue > tolerance):\n",
    "        currentX = np.ones(order)\n",
    "        \n",
    "        for x_index in range (order):\n",
    "            subtrahend = 0\n",
    "            \n",
    "            for sum_index in range (order):\n",
    "                if (sum_index == x_index):\n",
    "                    continue\n",
    "                subtrahend += A[x_index, sum_index] * X[sum_index]\n",
    "            \n",
    "            currentX[x_index] = (B[x_index] - subtrahend) / A[x_index, x_index]\n",
    "        \n",
    "        residue = np.linalg.norm(currentX - X, ord=2) / np.linalg.norm(currentX, ord=2)\n",
    "        X = currentX\n",
    "    \n",
    "    return X\n",
    "        "
   ]
  },
  {
   "cell_type": "markdown",
   "metadata": {},
   "source": [
    "#### By Gauss-seidel method"
   ]
  },
  {
   "cell_type": "code",
   "execution_count": 11,
   "metadata": {},
   "outputs": [],
   "source": [
    "def solve_equation_gauss_seidel(A, B, tolerance=0.000001):\n",
    "    order = A.shape[0]\n",
    "    residue = tolerance + 1\n",
    "    X = np.ones(order)\n",
    "    \n",
    "    if (not check_simetric_positive_defined(A) and not check_diagonal_dominance(A)):\n",
    "        return -1\n",
    "    \n",
    "    while(residue > tolerance):\n",
    "        currentX = np.ones(order)\n",
    "        \n",
    "        for i in range (order):\n",
    "            subtrahend = 0\n",
    "            \n",
    "            for j in range (i):\n",
    "                subtrahend += A[i, j] * currentX[j]\n",
    "    \n",
    "            for j in range (i + 1, order):\n",
    "                subtrahend += A[i, j] * X[j]\n",
    "\n",
    "            currentX[i] = (B[i] - subtrahend) / A[i, i]\n",
    "        \n",
    "        residue = np.linalg.norm(currentX - X, ord=2) / np.linalg.norm(currentX, ord=2)\n",
    "        X = currentX\n",
    "    \n",
    "    return X"
   ]
  },
  {
   "cell_type": "markdown",
   "metadata": {},
   "source": [
    "### Eigenvalues and eigenvectors"
   ]
  },
  {
   "cell_type": "markdown",
   "metadata": {},
   "source": [
    "#### Power Method"
   ]
  },
  {
   "cell_type": "markdown",
   "metadata": {},
   "source": [
    "Returns the greatest eigenvector and its corresponding eigenvalue"
   ]
  },
  {
   "cell_type": "code",
   "execution_count": 12,
   "metadata": {},
   "outputs": [],
   "source": [
    "def eigen_power_method(A, tolerance=0.000001):\n",
    "    order = A.shape[0]\n",
    "    \n",
    "    eigenvector = np.ones(order)\n",
    "    residue = tolerance + 1\n",
    "    prev_eigenvalue = 1\n",
    "    \n",
    "    while(tolerance < residue):   \n",
    "        Y = A @ eigenvector\n",
    "        \n",
    "        eigenvalue = Y[0]\n",
    "        eigenvector = Y / eigenvalue\n",
    "        \n",
    "        residue = (eigenvalue - prev_eigenvalue) / eigenvalue\n",
    "        prev_eigenvalue = eigenvalue\n",
    "\n",
    "    return eigenvector, eigenvalue "
   ]
  },
  {
   "cell_type": "markdown",
   "metadata": {},
   "source": [
    "#### Jacobi method"
   ]
  },
  {
   "cell_type": "markdown",
   "metadata": {},
   "source": [
    "Returns aproximated eigenvalues and eigenvectors. Matrix must be simetric."
   ]
  },
  {
   "cell_type": "code",
   "execution_count": 24,
   "metadata": {},
   "outputs": [],
   "source": [
    "def eigen_jacobi(A, tolerance=0.00000001):\n",
    "    order = A.shape[0]\n",
    "    if not check_simetric(A):\n",
    "        return -1\n",
    "        \n",
    "    X = np.identity(order)\n",
    "    residue = tolerance + 1\n",
    "    \n",
    "    while(residue > tolerance):\n",
    "        # Finds greater absolute value position outside diagonal\n",
    "        greatest_el = 0\n",
    "        for i in range(order):\n",
    "            for j in range(order):\n",
    "                if i != j and abs(A[i,j]) > abs(greatest_el):\n",
    "                    greatest_el_pos = (i, j)\n",
    "                    greatest_el = A[i,j]\n",
    "        \n",
    "        # Compute phi for P matrix\n",
    "        i, j = greatest_el_pos\n",
    "        if (A[i,i] != A[j,j]):\n",
    "            phi = 1/2 * np.arctan(2 * A[i,j] / (A[i,i] - A[j,j]))\n",
    "        else:\n",
    "            phi = np.pi / 4\n",
    "        \n",
    "        # Compute P matrix\n",
    "        P = np.identity(order)\n",
    "        P[i,i] = np.cos(phi)\n",
    "        P[j,j] = np.cos(phi)\n",
    "        P[j,i] = np.sin(phi)\n",
    "        P[i,j] = -np.sin(phi)\n",
    "        \n",
    "        # Next iteration A matrix\n",
    "        residue = abs(greatest_el)\n",
    "        A = np.transpose(P) @ A @ P\n",
    "        X = X @ P\n",
    "        \n",
    "    eigenvalues = np.zeros(order)\n",
    "    \n",
    "    # Eigenvalues are the values in the main diagonal\n",
    "    for i in range(order):\n",
    "        for j in range(order):\n",
    "            if i == j:\n",
    "                eigenvalues[i] = A[i,j]\n",
    "\n",
    "    eigenvectors = X \n",
    "    \n",
    "    return eigenvectors, eigenvalues"
   ]
  },
  {
   "cell_type": "code",
   "execution_count": null,
   "metadata": {},
   "outputs": [],
   "source": []
  }
 ],
 "metadata": {
  "kernelspec": {
   "display_name": "Python 3",
   "language": "python",
   "name": "python3"
  },
  "language_info": {
   "codemirror_mode": {
    "name": "ipython",
    "version": 3
   },
   "file_extension": ".py",
   "mimetype": "text/x-python",
   "name": "python",
   "nbconvert_exporter": "python",
   "pygments_lexer": "ipython3",
   "version": "3.8.5"
  }
 },
 "nbformat": 4,
 "nbformat_minor": 4
}
