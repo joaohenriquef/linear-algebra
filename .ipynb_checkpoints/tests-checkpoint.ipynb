{
 "cells": [
  {
   "cell_type": "markdown",
   "metadata": {},
   "source": [
    "# Tests"
   ]
  },
  {
   "cell_type": "markdown",
   "metadata": {},
   "source": [
    "### Matching helper"
   ]
  },
  {
   "cell_type": "code",
   "execution_count": 1,
   "metadata": {},
   "outputs": [],
   "source": [
    "def match(expected, result, rtol=None):\n",
    "    if (type(expected) != type(result)):\n",
    "        raise TypeError(f'❌ expected {type(expected)}, got: {type(result)}',)\n",
    "        return\n",
    "    \n",
    "    # Bool\n",
    "    if (type(expected) == bool):\n",
    "        if (expected != result):\n",
    "            raise TypeError(f'❌ expected {type(expected)}, got: {type(result)}',)\n",
    "            return \n",
    "        return print(\"✅ pass!\")\n",
    "    \n",
    "    # Arrays\n",
    "    if (type(expected) == np.ndarray):\n",
    "        if (not rtol and not np.array_equal(expected,result)):\n",
    "            raise ValueError(f'❌ expected {expected}, got: {result}')\n",
    "            return \n",
    "    \n",
    "        if (rtol and not np.allclose(expected,result, rtol)):\n",
    "            raise ValueError(f'❌ expected {expected}, got: {result}')\n",
    "            return \n",
    "        \n",
    "        return print(\"✅ pass!\")\n",
    "    \n",
    "    # Numbers\n",
    "    if (type(expected) != np.ndarray and expected != result and not rtol):\n",
    "        raise ValueError(f'❌ expected {expected}, got: {result}',)\n",
    "        return \n",
    "    \n",
    "    if (type(expected) != np.ndarray and (result > expected + rtol or result < expected - rtol)):\n",
    "        raise ValueError(f'❌ expected {expected}, got: {result}',)\n",
    "        return \n",
    "    \n",
    "\n",
    "        \n",
    "    return print(\"✅ pass!\")"
   ]
  },
  {
   "cell_type": "markdown",
   "metadata": {},
   "source": [
    "### Descriptions"
   ]
  },
  {
   "cell_type": "markdown",
   "metadata": {},
   "source": [
    "#### Pivot"
   ]
  },
  {
   "cell_type": "code",
   "execution_count": 2,
   "metadata": {},
   "outputs": [],
   "source": [
    "def test_pivot_zero_start():\n",
    "    A = np.array([\n",
    "        [0, .2, .4],\n",
    "        [.2, 1, .5],\n",
    "        [.4, .5, 1]\n",
    "    ])\n",
    "    \n",
    "    P, A = pivot(A, 0)\n",
    "    \n",
    "    expected_P = np.array([\n",
    "        [0., 1., 0.],\n",
    "        [1., 0., 0.],\n",
    "        [0., 0., 1.]\n",
    "    ])\n",
    "    \n",
    "    expected_A = np.array([\n",
    "        [.2, 1, .5],\n",
    "        [0, .2, .4],\n",
    "        [.4, .5, 1]\n",
    "    ])\n",
    "\n",
    "    match(expected_P, P)\n",
    "    match(expected_A, A)\n",
    "    \n",
    "def test_pivot_one_start():\n",
    "    A = np.array([\n",
    "        [1, .2, .4],\n",
    "        [.2, 0, .5],\n",
    "        [.4, .5, 1]\n",
    "    ])\n",
    "    \n",
    "    P, A = pivot(A, 1)\n",
    "    \n",
    "    expected_P = np.array([\n",
    "        [1., 0., 0.],\n",
    "        [0., 0., 1.],\n",
    "        [0., 1., 0.]\n",
    "    ])\n",
    "    \n",
    "    expected_A = np.array([\n",
    "        [1, .2, .4],\n",
    "        [.4, .5, 1],\n",
    "        [.2, 0, .5],\n",
    "    ])\n",
    "\n",
    "    match(expected_P, P)\n",
    "    match(expected_A, A)\n",
    "\n",
    "def test_pivot():\n",
    "    test_pivot_zero_start()\n",
    "    test_pivot_one_start()"
   ]
  },
  {
   "cell_type": "markdown",
   "metadata": {},
   "source": [
    "#### Diagonal dominance"
   ]
  },
  {
   "cell_type": "code",
   "execution_count": 3,
   "metadata": {},
   "outputs": [],
   "source": [
    "def test_diagonal_dominance_false():\n",
    "    A = np.array([\n",
    "        [1, 2, 2],\n",
    "        [4, 4, 2],\n",
    "        [4, 6, 4]\n",
    "    ])\n",
    "    \n",
    "    is_dominant = is_diagonal_dominant(A)\n",
    "\n",
    "    match(False, is_dominant)\n",
    "\n",
    "def test_diagonal_dominance():\n",
    "    test_diagonal_dominance_false()"
   ]
  },
  {
   "cell_type": "markdown",
   "metadata": {},
   "source": [
    "#### Cholesky Decompostion"
   ]
  },
  {
   "cell_type": "code",
   "execution_count": 4,
   "metadata": {
    "tags": []
   },
   "outputs": [],
   "source": [
    "def solve_cholesky_decompose():\n",
    "    A = np.array(\n",
    "        [[1, .2, .4],\n",
    "        [.2, 1, .5],\n",
    "        [.4, .5, 1]]\n",
    "    )\n",
    "\n",
    "    result = cholesky_decompose(A)\n",
    "    \n",
    "    expected = np.array([[1,  0, 0],[.2,.98,0],[.4,.43,.81]])\n",
    "    \n",
    "    match(expected, result, rtol=0.01)"
   ]
  },
  {
   "cell_type": "markdown",
   "metadata": {},
   "source": [
    "### Solve AX = B by gauss elimination"
   ]
  },
  {
   "cell_type": "code",
   "execution_count": 5,
   "metadata": {
    "tags": []
   },
   "outputs": [],
   "source": [
    "def solve_3_by_3_gauss():\n",
    "    A = np.array(\n",
    "        [[1, 2, 2],\n",
    "        [4, 4, 2],\n",
    "        [4, 6, 4]]\n",
    "    )\n",
    "\n",
    "    B = np.array([ 3, 6, 10])\n",
    "\n",
    "    result = solve_equation_gauss_elimination(A, B)\n",
    "    expected = np.array([-1.,  3., -1.])\n",
    "    \n",
    "    match(expected, result)\n",
    "\n",
    "def solve_2_by_2_pivot_gauss(): \n",
    "    A = np.array([[1,1],[1,1]])\n",
    "\n",
    "    B = np.array([2,2])\n",
    "\n",
    "    result = solve_equation_gauss_elimination(A, B)\n",
    "    expected = np.array([1, 1])\n",
    "    \n",
    "    match(expected, result)"
   ]
  },
  {
   "cell_type": "markdown",
   "metadata": {},
   "source": [
    "### Solve AX = B by jacobi"
   ]
  },
  {
   "cell_type": "code",
   "execution_count": 6,
   "metadata": {
    "tags": []
   },
   "outputs": [],
   "source": [
    "def solve_3_by_3_jacobi():\n",
    "    A = np.array(\n",
    "        [[3, -1, -1],\n",
    "        [-1, +3, -1],\n",
    "        [-1, -1, +3]]\n",
    "    )\n",
    "\n",
    "    B = np.array([1, 2, 1])\n",
    "\n",
    "    result = solve_equation_jacobi(A, B)\n",
    "    expected = np.array([1.25,  1.5, 1.25])\n",
    "    \n",
    "    match(expected, result, rtol=0.01)\n",
    "    \n",
    "def does_not_converge_jacobi():\n",
    "    A = np.array(\n",
    "        [[1, 2, 2],\n",
    "        [4, 4, 2],\n",
    "        [4, 6, 4]]\n",
    "    )\n",
    "\n",
    "    B = np.array([3, 6, 10])\n",
    "\n",
    "    result = solve_equation_jacobi(A, B)\n",
    "    expected = -1\n",
    "    \n",
    "    match(expected, result, rtol=0.01)\n"
   ]
  },
  {
   "cell_type": "code",
   "execution_count": 7,
   "metadata": {
    "tags": []
   },
   "outputs": [],
   "source": [
    "def solve_3_by_3_gauss_seidel():\n",
    "    A = np.array(\n",
    "        [[3, -1, -1],\n",
    "        [-1, +3, -1],\n",
    "        [-1, -1, +3]]\n",
    "    )\n",
    "\n",
    "    B = np.array([1, 2, 1])\n",
    "\n",
    "    result = solve_equation_gauss_seidel(A, B)\n",
    "    expected = np.array([1.25,  1.5, 1.25])\n",
    "    \n",
    "    match(expected, result, rtol=0.01)\n",
    "    \n",
    "def does_not_converge_gauss_seidel():\n",
    "    A = np.array(\n",
    "        [[1, 2, 2],\n",
    "        [4, 4, 2],\n",
    "        [4, 6, 4]]\n",
    "    )\n",
    "\n",
    "    B = np.array([3, 6, 10])\n",
    "\n",
    "    result = solve_equation_gauss_seidel(A, B)\n",
    "    expected = -1\n",
    "    \n",
    "    match(expected, result, rtol=0.01)"
   ]
  },
  {
   "cell_type": "markdown",
   "metadata": {},
   "source": [
    "### Eigenvalues and eigenvectors"
   ]
  },
  {
   "cell_type": "code",
   "execution_count": 8,
   "metadata": {},
   "outputs": [],
   "source": [
    "def test_get_eigenvector_power_method():\n",
    "    A = np.array([\n",
    "        [1,.2,0],\n",
    "        [.2,1,.5],\n",
    "        [.0,.5,1.0]\n",
    "    ])\n",
    "    \n",
    "    vector, value = eigen_power_method(A)\n",
    "    \n",
    "    expected_vector = np.transpose([1,2.69,2.5])\n",
    "    expected_value = np.float64(1.539)\n",
    "    \n",
    "    match(expected_vector, vector, rtol=0.01)\n",
    "    match(expected_value, value, rtol=0.01)    "
   ]
  },
  {
   "cell_type": "code",
   "execution_count": 9,
   "metadata": {},
   "outputs": [],
   "source": [
    "def test_eigen_jacobi():\n",
    "    A = np.array([\n",
    "        [1,.2,0],\n",
    "        [.2,1,.5],\n",
    "        [.0,.5,1.0]\n",
    "    ])\n",
    "    \n",
    "    vectors, values = eigen_jacobi(A)\n",
    "    \n",
    "    expected_vectors = np.array([\n",
    "        [0.928, 0.263, 0.263],\n",
    "        [0.0, 0.707, -0.707],\n",
    "        [-0.371, 0.657, 0.657]\n",
    "    ])\n",
    "    expected_values = np.array([1.0, 1.539, 0.462])\n",
    "    \n",
    "    match(expected_values, values, rtol=0.01)  \n",
    "    match(expected_vectors, vectors, rtol=0.01)"
   ]
  },
  {
   "cell_type": "markdown",
   "metadata": {},
   "source": [
    "### Least squares"
   ]
  },
  {
   "cell_type": "code",
   "execution_count": 10,
   "metadata": {},
   "outputs": [],
   "source": [
    "def test_least_squares():\n",
    "    P = np.array([\n",
    "        [1., 2.0],\n",
    "        [2., 3.5],\n",
    "        [3., 6.5]\n",
    "    ])\n",
    "    \n",
    "    B = least_squares(P)\n",
    "    expected_B = np.array([-.5,2.25])\n",
    "    \n",
    "    match(expected_B, B, rtol=0.01)\n",
    "    "
   ]
  },
  {
   "cell_type": "code",
   "execution_count": 11,
   "metadata": {
    "tags": []
   },
   "outputs": [
    {
     "ename": "NameError",
     "evalue": "name 'pivot' is not defined",
     "output_type": "error",
     "traceback": [
      "\u001b[0;31m---------------------------------------------------------------------------\u001b[0m",
      "\u001b[0;31mNameError\u001b[0m                                 Traceback (most recent call last)",
      "\u001b[0;32m<ipython-input-11-693e76800f04>\u001b[0m in \u001b[0;36m<module>\u001b[0;34m\u001b[0m\n\u001b[1;32m      1\u001b[0m \u001b[0mget_ipython\u001b[0m\u001b[0;34m(\u001b[0m\u001b[0;34m)\u001b[0m\u001b[0;34m.\u001b[0m\u001b[0mrun_line_magic\u001b[0m\u001b[0;34m(\u001b[0m\u001b[0;34m'run'\u001b[0m\u001b[0;34m,\u001b[0m \u001b[0;34m'./linear_algebra.ipynb'\u001b[0m\u001b[0;34m)\u001b[0m\u001b[0;34m\u001b[0m\u001b[0;34m\u001b[0m\u001b[0m\n\u001b[1;32m      2\u001b[0m \u001b[0;34m\u001b[0m\u001b[0m\n\u001b[0;32m----> 3\u001b[0;31m \u001b[0mtest_pivot\u001b[0m\u001b[0;34m(\u001b[0m\u001b[0;34m)\u001b[0m\u001b[0;34m\u001b[0m\u001b[0;34m\u001b[0m\u001b[0m\n\u001b[0m\u001b[1;32m      4\u001b[0m \u001b[0mtest_diagonal_dominance\u001b[0m\u001b[0;34m(\u001b[0m\u001b[0;34m)\u001b[0m\u001b[0;34m\u001b[0m\u001b[0;34m\u001b[0m\u001b[0m\n\u001b[1;32m      5\u001b[0m \u001b[0msolve_cholesky_decompose\u001b[0m\u001b[0;34m(\u001b[0m\u001b[0;34m)\u001b[0m\u001b[0;34m\u001b[0m\u001b[0;34m\u001b[0m\u001b[0m\n",
      "\u001b[0;32m<ipython-input-2-8d5015e1054f>\u001b[0m in \u001b[0;36mtest_pivot\u001b[0;34m()\u001b[0m\n\u001b[1;32m     48\u001b[0m \u001b[0;34m\u001b[0m\u001b[0m\n\u001b[1;32m     49\u001b[0m \u001b[0;32mdef\u001b[0m \u001b[0mtest_pivot\u001b[0m\u001b[0;34m(\u001b[0m\u001b[0;34m)\u001b[0m\u001b[0;34m:\u001b[0m\u001b[0;34m\u001b[0m\u001b[0;34m\u001b[0m\u001b[0m\n\u001b[0;32m---> 50\u001b[0;31m     \u001b[0mtest_pivot_zero_start\u001b[0m\u001b[0;34m(\u001b[0m\u001b[0;34m)\u001b[0m\u001b[0;34m\u001b[0m\u001b[0;34m\u001b[0m\u001b[0m\n\u001b[0m\u001b[1;32m     51\u001b[0m     \u001b[0mtest_pivot_one_start\u001b[0m\u001b[0;34m(\u001b[0m\u001b[0;34m)\u001b[0m\u001b[0;34m\u001b[0m\u001b[0;34m\u001b[0m\u001b[0m\n",
      "\u001b[0;32m<ipython-input-2-8d5015e1054f>\u001b[0m in \u001b[0;36mtest_pivot_zero_start\u001b[0;34m()\u001b[0m\n\u001b[1;32m      6\u001b[0m     ])\n\u001b[1;32m      7\u001b[0m \u001b[0;34m\u001b[0m\u001b[0m\n\u001b[0;32m----> 8\u001b[0;31m     \u001b[0mP\u001b[0m\u001b[0;34m,\u001b[0m \u001b[0mA\u001b[0m \u001b[0;34m=\u001b[0m \u001b[0mpivot\u001b[0m\u001b[0;34m(\u001b[0m\u001b[0mA\u001b[0m\u001b[0;34m,\u001b[0m \u001b[0;36m0\u001b[0m\u001b[0;34m)\u001b[0m\u001b[0;34m\u001b[0m\u001b[0;34m\u001b[0m\u001b[0m\n\u001b[0m\u001b[1;32m      9\u001b[0m \u001b[0;34m\u001b[0m\u001b[0m\n\u001b[1;32m     10\u001b[0m     expected_P = np.array([\n",
      "\u001b[0;31mNameError\u001b[0m: name 'pivot' is not defined"
     ]
    }
   ],
   "source": [
    "%run ./linear_algebra.ipynb\n",
    "\n",
    "test_diagonal_dominance()\n",
    "solve_cholesky_decompose()\n",
    "solve_3_by_3_gauss_seidel()\n",
    "solve_2_by_2_pivot_gauss()\n",
    "does_not_converge_gauss_seidel()\n",
    "solve_3_by_3_gauss()\n",
    "test_get_eigenvector_power_method()\n",
    "test_eigen_jacobi()\n",
    "test_least_squares()\n"
   ]
  },
  {
   "cell_type": "code",
   "execution_count": null,
   "metadata": {},
   "outputs": [],
   "source": [
    "\n"
   ]
  },
  {
   "cell_type": "code",
   "execution_count": null,
   "metadata": {},
   "outputs": [],
   "source": []
  }
 ],
 "metadata": {
  "kernelspec": {
   "display_name": "Python 3.8.5 64-bit",
   "language": "python",
   "name": "python38564bit2d833a75566a4d3d90bb98e5ae80268b"
  },
  "language_info": {
   "codemirror_mode": {
    "name": "ipython",
    "version": 3
   },
   "file_extension": ".py",
   "mimetype": "text/x-python",
   "name": "python",
   "nbconvert_exporter": "python",
   "pygments_lexer": "ipython3",
   "version": "3.8.5"
  }
 },
 "nbformat": 4,
 "nbformat_minor": 4
}
