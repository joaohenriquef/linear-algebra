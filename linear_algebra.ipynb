{
 "cells": [
  {
   "cell_type": "markdown",
   "metadata": {},
   "source": [
    "# Linear Algebra Algorithms"
   ]
  },
  {
   "cell_type": "markdown",
   "metadata": {},
   "source": [
    "## Implementation"
   ]
  },
  {
   "cell_type": "code",
   "execution_count": 1,
   "metadata": {},
   "outputs": [],
   "source": [
    "import numpy as np\n",
    "import math"
   ]
  },
  {
   "cell_type": "markdown",
   "metadata": {},
   "source": [
    "### Property checks"
   ]
  },
  {
   "cell_type": "markdown",
   "metadata": {},
   "source": [
    "#### Simetric check"
   ]
  },
  {
   "cell_type": "code",
   "execution_count": 2,
   "metadata": {},
   "outputs": [],
   "source": [
    "def is_simetric(matrix):\n",
    "    order = matrix.shape[0]\n",
    "    \n",
    "    for i in range(order):\n",
    "        for j in range(order):\n",
    "            if matrix[i,j] != matrix[j,i]:\n",
    "                return False\n",
    " \n",
    "    return True"
   ]
  },
  {
   "cell_type": "markdown",
   "metadata": {},
   "source": [
    "#### Simetric and positive defined check"
   ]
  },
  {
   "cell_type": "code",
   "execution_count": 3,
   "metadata": {},
   "outputs": [],
   "source": [
    "def is_simetric_positive_defined(matrix):\n",
    "    order = matrix.shape[0]\n",
    "    \n",
    "    for i in range(order):\n",
    "        if matrix[i,i] < 0:\n",
    "            return False\n",
    "        \n",
    "        for j in range(order):\n",
    "            if matrix[i,j] != matrix[j,i]:\n",
    "                return False\n",
    "    \n",
    "    return True"
   ]
  },
  {
   "cell_type": "markdown",
   "metadata": {},
   "source": [
    "#### Diagonal dominance check"
   ]
  },
  {
   "cell_type": "code",
   "execution_count": 1,
   "metadata": {},
   "outputs": [],
   "source": [
    "def is_diagonal_dominant(A):\n",
    "    order = A.shape[0]\n",
    "    \n",
    "    for i in range(order):\n",
    "        row_sum = 0\n",
    "        column_sum = 0\n",
    "        \n",
    "        for j in range(order):\n",
    "            if (i == j):\n",
    "                continue\n",
    "            row_sum += abs(A[i, j])\n",
    "            column_sum += abs(A[j, i])\n",
    "                    \n",
    "        if (abs(A[i, i]) < row_sum or abs(A[i, i]) < column_sum):\n",
    "            return False\n",
    "        \n",
    "    return True"
   ]
  },
  {
   "cell_type": "markdown",
   "metadata": {},
   "source": [
    "### Decomposition"
   ]
  },
  {
   "cell_type": "markdown",
   "metadata": {},
   "source": [
    "#### LU Decomposition"
   ]
  },
  {
   "cell_type": "code",
   "execution_count": 5,
   "metadata": {},
   "outputs": [],
   "source": [
    "def pivotting_matrix_step(A, k):\n",
    "    order = A.shape[0]\n",
    "    P = np.identity(order)\n",
    "    \n",
    "    # No pivotting needed\n",
    "    if (A[k,k] != 0):\n",
    "        return P\n",
    "        \n",
    "    # Find useful row and swap\n",
    "    for i in range(k + 1, order - 1):\n",
    "        if A[i,k] != 0:\n",
    "            temp = np.array(P[k,:])\n",
    "            P[k,:] = P[i,:]\n",
    "            P[i,:] = temp\n",
    "            return P\n",
    "    \n",
    "    return None\n",
    "\n",
    "def lu_decomposition_step(A, k):        \n",
    "        order = A.shape[0]\n",
    "                \n",
    "        L = np.identity(order)\n",
    "        U = np.identity(order)\n",
    "        \n",
    "        for i in range (k + 1, order):\n",
    "            element = A[i,k] / A[k,k]\n",
    "            L[i, k] = element\n",
    "            U[i, k] = - element\n",
    "            \n",
    "        return L, U\n",
    "    \n",
    "def lu_decompose(A):\n",
    "    order = A.shape[0]\n",
    "    \n",
    "    U = A\n",
    "    Mu_combined = np.identity(order)\n",
    "    L = np.identity(order)\n",
    "    P_combined = np.identity(order)\n",
    "    \n",
    "    for k in range (order - 1):\n",
    "        P = pivotting_matrix_step(U, k)\n",
    "        \n",
    "        if (P is None):\n",
    "            return -1\n",
    "        \n",
    "        P_combined = P @ P_combined\n",
    "        U = P @ U\n",
    "        \n",
    "        Ml, Mu = lu_decomposition_step(U, k)\n",
    "        Mu_combined = Mu @ Mu_combined\n",
    "        \n",
    "        L = Ml @ L\n",
    "        U = Mu @ U\n",
    "\n",
    "    return L, U, Mu_combined, P_combined"
   ]
  },
  {
   "cell_type": "markdown",
   "metadata": {},
   "source": [
    "#### Cholesky decomposition"
   ]
  },
  {
   "cell_type": "code",
   "execution_count": 6,
   "metadata": {},
   "outputs": [],
   "source": [
    "def cholesky_decompose(A):\n",
    "    order = A.shape[0]\n",
    "\n",
    "    L = np.zeros((order, order))\n",
    "\n",
    "    for i in range(order):\n",
    "        for k in range(i+1):\n",
    "            subtrahend = sum(L[i,j] * L[k,j] for j in range(k))\n",
    "            \n",
    "            if (i == k):\n",
    "                L[i,k] = math.sqrt(A[i,i] - subtrahend)\n",
    "            else:\n",
    "                L[i,k] = (1.0 / L[k,k] * (A[i,k] - subtrahend))\n",
    "    return L"
   ]
  },
  {
   "cell_type": "markdown",
   "metadata": {},
   "source": [
    "#### Gauss elimination"
   ]
  },
  {
   "cell_type": "code",
   "execution_count": 7,
   "metadata": {},
   "outputs": [],
   "source": [
    "def gauss_elimination(A):\n",
    "    _, U, Mu_combined, P = lu_decompose(A)\n",
    "    return U, Mu_combined, P"
   ]
  },
  {
   "cell_type": "markdown",
   "metadata": {},
   "source": [
    "#### Determinant"
   ]
  },
  {
   "cell_type": "code",
   "execution_count": 8,
   "metadata": {},
   "outputs": [],
   "source": [
    "def determinant(A):\n",
    "    order = A.shape[0]\n",
    "    L, U, _, _ = lu_decompose(A)\n",
    "    \n",
    "    l_det = 1\n",
    "    u_det = 1\n",
    "    \n",
    "    for index in range(order):\n",
    "        l_det = L[index, index] * l_det\n",
    "        u_det = U[index, index] * u_det\n",
    "        \n",
    "    return l_det * u_det"
   ]
  },
  {
   "cell_type": "markdown",
   "metadata": {},
   "source": [
    "### AX = B solving"
   ]
  },
  {
   "cell_type": "markdown",
   "metadata": {},
   "source": [
    "#### By gauss elimination"
   ]
  },
  {
   "cell_type": "code",
   "execution_count": 9,
   "metadata": {},
   "outputs": [],
   "source": [
    "def solve_gauss_elimination(A, B):\n",
    "    order = A.shape[0]\n",
    "\n",
    "    A, M, P = gauss_elimination(A)\n",
    "    B = M @ P @ B\n",
    "    X = np.zeros(order)\n",
    "         \n",
    "    for i in range(order - 1, -1, -1): # From n to 0 \n",
    "        subtrahend = sum(A[i,j] * X[j] for j in range(i + 1, order)) \n",
    "        X[i] = (B[i] - subtrahend) / A[i, i]\n",
    "        \n",
    "    return X"
   ]
  },
  {
   "cell_type": "markdown",
   "metadata": {},
   "source": [
    "#### By Jacobi method"
   ]
  },
  {
   "cell_type": "code",
   "execution_count": 10,
   "metadata": {},
   "outputs": [],
   "source": [
    "def solve_jacobi(A, B, rtol=0.000001):\n",
    "    order = A.shape[0]\n",
    "    residue = rtol + 1\n",
    "    X = np.ones(order)\n",
    "    \n",
    "    if (not is_diagonal_dominant(A)):\n",
    "        return -1\n",
    "        \n",
    "    while(residue > rtol):\n",
    "        X_current = np.ones(order)\n",
    "        \n",
    "        for i in range (order):\n",
    "            subtrahend = 0\n",
    "            \n",
    "            for j in range (order):\n",
    "                if (j == i):\n",
    "                    continue\n",
    "                subtrahend += A[i, j] * X[j]\n",
    "            \n",
    "            X_current[i] = (B[i] - subtrahend) / A[i, i]\n",
    "        \n",
    "        residue = np.linalg.norm(X_current - X, ord=2) / np.linalg.norm(X_current, ord=2)\n",
    "        X = X_current\n",
    "    \n",
    "    return X"
   ]
  },
  {
   "cell_type": "markdown",
   "metadata": {},
   "source": [
    "#### By Gauss-seidel method"
   ]
  },
  {
   "cell_type": "code",
   "execution_count": 11,
   "metadata": {},
   "outputs": [],
   "source": [
    "def solve_gauss_seidel(A, B, rtol=0.000001):\n",
    "    order = A.shape[0]\n",
    "    residue = rtol + 1\n",
    "    X = np.ones(order)\n",
    "    \n",
    "    if (not is_simetric_positive_defined(A) and not is_diagonal_dominant(A)):\n",
    "        return -1\n",
    "    \n",
    "    while(residue > rtol):\n",
    "        X_current = np.ones(order)\n",
    "        \n",
    "        for i in range (order):\n",
    "            subtrahend = 0\n",
    "            \n",
    "            for j in range (i):\n",
    "                subtrahend += A[i, j] * X_current[j]\n",
    "    \n",
    "            for j in range (i + 1, order):\n",
    "                subtrahend += A[i, j] * X[j]\n",
    "\n",
    "            X_current[i] = (B[i] - subtrahend) / A[i, i]\n",
    "        \n",
    "        residue = np.linalg.norm(X_current - X, ord=2) / np.linalg.norm(X_current, ord=2)\n",
    "        X = X_current\n",
    "    \n",
    "    return X"
   ]
  },
  {
   "cell_type": "markdown",
   "metadata": {},
   "source": [
    "### Eigenvalues and eigenvectors"
   ]
  },
  {
   "cell_type": "markdown",
   "metadata": {},
   "source": [
    "#### Power Method"
   ]
  },
  {
   "cell_type": "markdown",
   "metadata": {},
   "source": [
    "Returns the greatest eigenvector and its corresponding eigenvalue"
   ]
  },
  {
   "cell_type": "code",
   "execution_count": 12,
   "metadata": {},
   "outputs": [],
   "source": [
    "def eigen_power_method(A, rtol=0.000001):\n",
    "    order = A.shape[0]\n",
    "    \n",
    "    eigenvector = np.ones(order)\n",
    "    residue = rtol + 1\n",
    "    prev_eigenvalue = 1\n",
    "    \n",
    "    while(rtol < residue):   \n",
    "        Y = A @ eigenvector\n",
    "        \n",
    "        eigenvalue = Y[0]\n",
    "        eigenvector = Y / eigenvalue\n",
    "        \n",
    "        residue = (eigenvalue - prev_eigenvalue) / eigenvalue\n",
    "        prev_eigenvalue = eigenvalue\n",
    "\n",
    "    return eigenvector, eigenvalue "
   ]
  },
  {
   "cell_type": "markdown",
   "metadata": {},
   "source": [
    "#### Jacobi method"
   ]
  },
  {
   "cell_type": "markdown",
   "metadata": {},
   "source": [
    "Returns aproximated eigenvalues and eigenvectors. Matrix Mu_combinedst be simetric."
   ]
  },
  {
   "cell_type": "code",
   "execution_count": 13,
   "metadata": {},
   "outputs": [],
   "source": [
    "def eigen_jacobi(A, rtol=0.00000001):\n",
    "    order = A.shape[0]\n",
    "    \n",
    "    if not is_simetric(A):\n",
    "        return -1\n",
    "        \n",
    "    X = np.identity(order)\n",
    "    residue = rtol + 1\n",
    "    \n",
    "    while(residue > rtol):\n",
    "        # Finds greater absolute value position outside diagonal\n",
    "        greatest_el = 0\n",
    "        for i in range(order):\n",
    "            for j in range(order):\n",
    "                if i != j and abs(A[i,j]) > abs(greatest_el):\n",
    "                    greatest_el_pos = (i, j)\n",
    "                    greatest_el = A[i,j]\n",
    "        \n",
    "        # Compute phi for P matrix\n",
    "        i, j = greatest_el_pos\n",
    "        if (A[i,i] != A[j,j]):\n",
    "            phi = 1/2 * np.arctan(2 * A[i,j] / (A[i,i] - A[j,j]))\n",
    "        else:\n",
    "            phi = np.pi / 4\n",
    "        \n",
    "        # Compute P matrix\n",
    "        P = np.identity(order)\n",
    "        P[i,i] = np.cos(phi)\n",
    "        P[j,j] = np.cos(phi)\n",
    "        P[j,i] = np.sin(phi)\n",
    "        P[i,j] = -np.sin(phi)\n",
    "        \n",
    "        # Next iteration A matrix\n",
    "        residue = abs(greatest_el)\n",
    "        A = np.transpose(P) @ A @ P\n",
    "        X = X @ P\n",
    "        \n",
    "    eigenvalues = np.zeros(order)\n",
    "    \n",
    "    # Eigenvalues are the values in the main diagonal\n",
    "    for i in range(order):\n",
    "        for j in range(order):\n",
    "            if i == j:\n",
    "                eigenvalues[i] = A[i,j]\n",
    "\n",
    "    eigenvectors = X \n",
    "    \n",
    "    return eigenvectors, eigenvalues"
   ]
  },
  {
   "cell_type": "markdown",
   "metadata": {},
   "source": [
    "### Linear regression"
   ]
  },
  {
   "cell_type": "markdown",
   "metadata": {},
   "source": [
    "#### Least squares"
   ]
  },
  {
   "cell_type": "code",
   "execution_count": 14,
   "metadata": {},
   "outputs": [],
   "source": [
    "def least_squares(points):\n",
    "    n_points = points.shape[0]\n",
    "    \n",
    "    A = np.identity(2)\n",
    "    A[0,0] = n_points\n",
    "    A[0,1] = sum(points[i,0] for i in range (n_points))\n",
    "    A[1,0] = A[0,1]\n",
    "    A[1,1] = sum((points[i,0] ** 2) for i in range (n_points))\n",
    "        \n",
    "    C = np.array([0.,0.])\n",
    "    C[0] = sum(points[i,1] for i in range (n_points))\n",
    "    C[1] = sum(points[i,0] * points[i,1] for i in range (n_points))\n",
    "            \n",
    "    B = solve_gauss_seidel(A, C)\n",
    "    \n",
    "    return B"
   ]
  }
 ],
 "metadata": {
  "kernelspec": {
   "display_name": "Python 3",
   "language": "python",
   "name": "python3"
  },
  "language_info": {
   "codemirror_mode": {
    "name": "ipython",
    "version": 3
   },
   "file_extension": ".py",
   "mimetype": "text/x-python",
   "name": "python",
   "nbconvert_exporter": "python",
   "pygments_lexer": "ipython3",
   "version": "3.8.5"
  }
 },
 "nbformat": 4,
 "nbformat_minor": 4
}
