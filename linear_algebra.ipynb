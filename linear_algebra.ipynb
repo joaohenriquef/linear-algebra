{
 "cells": [
  {
   "cell_type": "code",
   "execution_count": 1,
   "metadata": {},
   "outputs": [],
   "source": [
    "import numpy as np"
   ]
  },
  {
   "cell_type": "markdown",
   "metadata": {},
   "source": [
    "# Implementation"
   ]
  },
  {
   "cell_type": "markdown",
   "metadata": {},
   "source": [
    "## LU Decomposition"
   ]
  },
  {
   "cell_type": "code",
   "execution_count": 11,
   "metadata": {},
   "outputs": [],
   "source": [
    "def get_matrix_decomposition_step(matrix, step_index):        \n",
    "        order = matrix.shape[0]\n",
    "        pivot = matrix[step_index, step_index]\n",
    "        \n",
    "        if (pivot == 0):\n",
    "            raise ValueError('Pivot is 0!', matrix, step_index)\n",
    "            return -1\n",
    "#           return get_matrix_decomposition_step(pivot(matrix), step_index)\n",
    "        \n",
    "        lower = np.identity(order)\n",
    "        upper = np.identity(order)\n",
    "        \n",
    "        for line_index in range (step_index + 1, order):\n",
    "            element = matrix[line_index, step_index] / pivot\n",
    "            \n",
    "            lower[line_index, step_index] = element\n",
    "            upper[line_index, step_index] = - element\n",
    "            \n",
    "        return lower, upper\n",
    "    \n",
    "# def pivot(matrix):\n",
    "#     order = matrix.shape[0]\n",
    "#     for line in range(order-1):\n",
    "#         if (matrix[line][line]) = 0\n",
    "    \n",
    "    \n",
    "def lu_decompose(matrix):\n",
    "    order = matrix.shape[0]\n",
    "    upper = matrix\n",
    "    lower = np.identity(order)\n",
    "    \n",
    "    for step_index in range (order - 1):\n",
    "        lower_step, upper_step = get_matrix_decomposition_step(upper, step_index)\n",
    "        lower = lower_step@lower\n",
    "        upper = upper_step@upper\n",
    "\n",
    "    return lower, upper"
   ]
  },
  {
   "cell_type": "markdown",
   "metadata": {},
   "source": [
    "## Gauss elimination"
   ]
  },
  {
   "cell_type": "code",
   "execution_count": 3,
   "metadata": {},
   "outputs": [],
   "source": [
    "def gauss_elimination(matrix):\n",
    "    lower, upper = lu_decompose(matrix)\n",
    "    return upper"
   ]
  },
  {
   "cell_type": "markdown",
   "metadata": {},
   "source": [
    "## Determinant"
   ]
  },
  {
   "cell_type": "code",
   "execution_count": 4,
   "metadata": {},
   "outputs": [],
   "source": [
    "def determinant(matrix):\n",
    "    # permutation matrix missing here\n",
    "    \n",
    "    order = matrix.shape[0]\n",
    "    upper, lower = lu_decompose(matrix)\n",
    "    lower_det = 1\n",
    "    upper_det = 1\n",
    "    \n",
    "    for index in range(order):\n",
    "        lower_det = lower[index, index] * lower_det\n",
    "        upper_det = upper[index, index] * upper_det\n",
    "        \n",
    "    return lower_det * upper_det"
   ]
  },
  {
   "cell_type": "markdown",
   "metadata": {},
   "source": [
    "# Examples"
   ]
  },
  {
   "cell_type": "code",
   "execution_count": 5,
   "metadata": {},
   "outputs": [],
   "source": [
    "# A = np.matrix(\n",
    "#     [[5, -4, 1, 0],\n",
    "#     [-4, 6, -4, 1],\n",
    "#     [1, -4, 6, -4],\n",
    "#     [0, 1, -4, 5]]\n",
    "# )"
   ]
  },
  {
   "cell_type": "code",
   "execution_count": 6,
   "metadata": {},
   "outputs": [],
   "source": [
    "# A = np.matrix(\n",
    "#     [[1, 2, 2],\n",
    "#     [4, 4, 2],\n",
    "#     [4, 6, -4]]\n",
    "# )"
   ]
  },
  {
   "cell_type": "code",
   "execution_count": 7,
   "metadata": {},
   "outputs": [],
   "source": [
    "# A = np.matrix(\n",
    "#     [[1, 2, 2],\n",
    "#     [4, 4, 2],\n",
    "#     [4, 6, 4]]\n",
    "# )"
   ]
  },
  {
   "cell_type": "code",
   "execution_count": 8,
   "metadata": {},
   "outputs": [],
   "source": [
    "A = np.array(\n",
    "    [[0,2,4,22],[1,4,5,3],[0,4,5,2],[1,3,5,-9]]\n",
    ")"
   ]
  },
  {
   "cell_type": "code",
   "execution_count": 9,
   "metadata": {},
   "outputs": [],
   "source": [
    "B = [ -1, 2, 1, 3]"
   ]
  },
  {
   "cell_type": "code",
   "execution_count": 12,
   "metadata": {},
   "outputs": [
    {
     "ename": "ValueError",
     "evalue": "('Pivot is 0!', array([[ 0,  2,  4, 22],\n       [ 1,  4,  5,  3],\n       [ 0,  4,  5,  2],\n       [ 1,  3,  5, -9]]), 0)",
     "output_type": "error",
     "traceback": [
      "\u001b[0;31m---------------------------------------------------------------------------\u001b[0m",
      "\u001b[0;31mValueError\u001b[0m                                Traceback (most recent call last)",
      "\u001b[0;32m<ipython-input-12-abe38cf7a752>\u001b[0m in \u001b[0;36m<module>\u001b[0;34m\u001b[0m\n\u001b[0;32m----> 1\u001b[0;31m \u001b[0mdeterminant\u001b[0m\u001b[0;34m(\u001b[0m\u001b[0mA\u001b[0m\u001b[0;34m)\u001b[0m\u001b[0;34m\u001b[0m\u001b[0;34m\u001b[0m\u001b[0m\n\u001b[0m",
      "\u001b[0;32m<ipython-input-4-9be429e8405c>\u001b[0m in \u001b[0;36mdeterminant\u001b[0;34m(matrix)\u001b[0m\n\u001b[1;32m      3\u001b[0m \u001b[0;34m\u001b[0m\u001b[0m\n\u001b[1;32m      4\u001b[0m     \u001b[0morder\u001b[0m \u001b[0;34m=\u001b[0m \u001b[0mmatrix\u001b[0m\u001b[0;34m.\u001b[0m\u001b[0mshape\u001b[0m\u001b[0;34m[\u001b[0m\u001b[0;36m0\u001b[0m\u001b[0;34m]\u001b[0m\u001b[0;34m\u001b[0m\u001b[0;34m\u001b[0m\u001b[0m\n\u001b[0;32m----> 5\u001b[0;31m     \u001b[0mupper\u001b[0m\u001b[0;34m,\u001b[0m \u001b[0mlower\u001b[0m \u001b[0;34m=\u001b[0m \u001b[0mlu_decompose\u001b[0m\u001b[0;34m(\u001b[0m\u001b[0mmatrix\u001b[0m\u001b[0;34m)\u001b[0m\u001b[0;34m\u001b[0m\u001b[0;34m\u001b[0m\u001b[0m\n\u001b[0m\u001b[1;32m      6\u001b[0m     \u001b[0mlower_det\u001b[0m \u001b[0;34m=\u001b[0m \u001b[0;36m1\u001b[0m\u001b[0;34m\u001b[0m\u001b[0;34m\u001b[0m\u001b[0m\n\u001b[1;32m      7\u001b[0m     \u001b[0mupper_det\u001b[0m \u001b[0;34m=\u001b[0m \u001b[0;36m1\u001b[0m\u001b[0;34m\u001b[0m\u001b[0;34m\u001b[0m\u001b[0m\n",
      "\u001b[0;32m<ipython-input-11-365e8c7d2bec>\u001b[0m in \u001b[0;36mlu_decompose\u001b[0;34m(matrix)\u001b[0m\n\u001b[1;32m     31\u001b[0m \u001b[0;34m\u001b[0m\u001b[0m\n\u001b[1;32m     32\u001b[0m     \u001b[0;32mfor\u001b[0m \u001b[0mstep_index\u001b[0m \u001b[0;32min\u001b[0m \u001b[0mrange\u001b[0m \u001b[0;34m(\u001b[0m\u001b[0morder\u001b[0m \u001b[0;34m-\u001b[0m \u001b[0;36m1\u001b[0m\u001b[0;34m)\u001b[0m\u001b[0;34m:\u001b[0m\u001b[0;34m\u001b[0m\u001b[0;34m\u001b[0m\u001b[0m\n\u001b[0;32m---> 33\u001b[0;31m         \u001b[0mlower_step\u001b[0m\u001b[0;34m,\u001b[0m \u001b[0mupper_step\u001b[0m \u001b[0;34m=\u001b[0m \u001b[0mget_matrix_decomposition_step\u001b[0m\u001b[0;34m(\u001b[0m\u001b[0mupper\u001b[0m\u001b[0;34m,\u001b[0m \u001b[0mstep_index\u001b[0m\u001b[0;34m)\u001b[0m\u001b[0;34m\u001b[0m\u001b[0;34m\u001b[0m\u001b[0m\n\u001b[0m\u001b[1;32m     34\u001b[0m         \u001b[0mlower\u001b[0m \u001b[0;34m=\u001b[0m \u001b[0mlower_step\u001b[0m\u001b[0;34m@\u001b[0m\u001b[0mlower\u001b[0m\u001b[0;34m\u001b[0m\u001b[0;34m\u001b[0m\u001b[0m\n\u001b[1;32m     35\u001b[0m         \u001b[0mupper\u001b[0m \u001b[0;34m=\u001b[0m \u001b[0mupper_step\u001b[0m\u001b[0;34m@\u001b[0m\u001b[0mupper\u001b[0m\u001b[0;34m\u001b[0m\u001b[0;34m\u001b[0m\u001b[0m\n",
      "\u001b[0;32m<ipython-input-11-365e8c7d2bec>\u001b[0m in \u001b[0;36mget_matrix_decomposition_step\u001b[0;34m(matrix, step_index)\u001b[0m\n\u001b[1;32m      4\u001b[0m \u001b[0;34m\u001b[0m\u001b[0m\n\u001b[1;32m      5\u001b[0m         \u001b[0;32mif\u001b[0m \u001b[0;34m(\u001b[0m\u001b[0mpivot\u001b[0m \u001b[0;34m==\u001b[0m \u001b[0;36m0\u001b[0m\u001b[0;34m)\u001b[0m\u001b[0;34m:\u001b[0m\u001b[0;34m\u001b[0m\u001b[0;34m\u001b[0m\u001b[0m\n\u001b[0;32m----> 6\u001b[0;31m             \u001b[0;32mraise\u001b[0m \u001b[0mValueError\u001b[0m\u001b[0;34m(\u001b[0m\u001b[0;34m'Pivot is 0!'\u001b[0m\u001b[0;34m,\u001b[0m \u001b[0mmatrix\u001b[0m\u001b[0;34m,\u001b[0m \u001b[0mstep_index\u001b[0m\u001b[0;34m)\u001b[0m\u001b[0;34m\u001b[0m\u001b[0;34m\u001b[0m\u001b[0m\n\u001b[0m\u001b[1;32m      7\u001b[0m             \u001b[0;32mreturn\u001b[0m \u001b[0;34m-\u001b[0m\u001b[0;36m1\u001b[0m\u001b[0;34m\u001b[0m\u001b[0;34m\u001b[0m\u001b[0m\n\u001b[1;32m      8\u001b[0m \u001b[0;31m#           return get_matrix_decomposition_step(pivot(matrix), step_index)\u001b[0m\u001b[0;34m\u001b[0m\u001b[0;34m\u001b[0m\u001b[0;34m\u001b[0m\u001b[0m\n",
      "\u001b[0;31mValueError\u001b[0m: ('Pivot is 0!', array([[ 0,  2,  4, 22],\n       [ 1,  4,  5,  3],\n       [ 0,  4,  5,  2],\n       [ 1,  3,  5, -9]]), 0)"
     ]
    }
   ],
   "source": [
    "determinant(A)"
   ]
  },
  {
   "cell_type": "code",
   "execution_count": null,
   "metadata": {},
   "outputs": [],
   "source": [
    "A.shape"
   ]
  },
  {
   "cell_type": "code",
   "execution_count": null,
   "metadata": {},
   "outputs": [],
   "source": []
  }
 ],
 "metadata": {
  "kernelspec": {
   "display_name": "Python 3",
   "language": "python",
   "name": "python3"
  },
  "language_info": {
   "codemirror_mode": {
    "name": "ipython",
    "version": 3
   },
   "file_extension": ".py",
   "mimetype": "text/x-python",
   "name": "python",
   "nbconvert_exporter": "python",
   "pygments_lexer": "ipython3",
   "version": "3.8.3"
  }
 },
 "nbformat": 4,
 "nbformat_minor": 4
}
