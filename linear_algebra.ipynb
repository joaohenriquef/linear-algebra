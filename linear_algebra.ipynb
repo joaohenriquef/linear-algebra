{
 "cells": [
  {
   "cell_type": "code",
   "execution_count": 1,
   "metadata": {},
   "outputs": [],
   "source": [
    "import numpy as np"
   ]
  },
  {
   "cell_type": "markdown",
   "metadata": {},
   "source": [
    "# Inputs"
   ]
  },
  {
   "cell_type": "code",
   "execution_count": 2,
   "metadata": {},
   "outputs": [],
   "source": [
    "# A = np.matrix(\n",
    "#     [[5, -4, 1, 0],\n",
    "#     [-4, 6, -4, 1],\n",
    "#     [1, -4, 6, -4],\n",
    "#     [0, 1, -4, 5]]\n",
    "# )"
   ]
  },
  {
   "cell_type": "code",
   "execution_count": 3,
   "metadata": {},
   "outputs": [],
   "source": [
    "# A = np.matrix(\n",
    "#     [[1, 2, 2],\n",
    "#     [4, 4, 2],\n",
    "#     [4, 6, -4]]\n",
    "# )"
   ]
  },
  {
   "cell_type": "code",
   "execution_count": 4,
   "metadata": {},
   "outputs": [],
   "source": [
    "A = np.matrix(\n",
    "    [[1, 2, 2],\n",
    "    [4, 4, 2],\n",
    "    [4, 6, 4]]\n",
    ")"
   ]
  },
  {
   "cell_type": "code",
   "execution_count": 5,
   "metadata": {},
   "outputs": [],
   "source": [
    "B = [ -1, 2, 1, 3]"
   ]
  },
  {
   "cell_type": "markdown",
   "metadata": {},
   "source": [
    "# Implementation"
   ]
  },
  {
   "cell_type": "markdown",
   "metadata": {},
   "source": [
    "## Gauss elimination"
   ]
  },
  {
   "cell_type": "code",
   "execution_count": 6,
   "metadata": {},
   "outputs": [],
   "source": [
    "def get_upper_linear_combination_matrix_step(input_matrix, step_index):        \n",
    "        order = input_matrix.shape[0];\n",
    "        result = np.identity(order);\n",
    "        pivot = input_matrix[step_index, step_index]\n",
    "        \n",
    "        for line_index in range (step_index + 1, order):\n",
    "            result[line_index, step_index] = (- input_matrix[line_index, step_index] / pivot)\n",
    "\n",
    "        return result\n",
    "\n",
    "def gauss_elimination(matrix):\n",
    "    order = matrix.shape[0]\n",
    "    \n",
    "    for step_index in range(order-1):\n",
    "        current_multiplier = get_upper_linear_combination_matrix_step(matrix, step_index)\n",
    "        print(f'step {step_index}:\\n{current_multiplier}')\n",
    "        matrix = current_multiplier@matrix\n",
    "    \n",
    "    return matrix"
   ]
  },
  {
   "cell_type": "markdown",
   "metadata": {},
   "source": [
    "## Gauss-jordan elimination"
   ]
  },
  {
   "cell_type": "code",
   "execution_count": 7,
   "metadata": {},
   "outputs": [],
   "source": [
    "def get_lower_linear_combination_matrix_step(input_matrix, step_index):    \n",
    "        order = input_matrix.shape[0];\n",
    "        \n",
    "        column_index = order - step_index - 1\n",
    "        \n",
    "        result = np.identity(order);\n",
    "        pivot = input_matrix[column_index, column_index]\n",
    "        \n",
    "        for line_index in range (column_index - 1, -1, -1):\n",
    "            result[line_index, column_index] = (- input_matrix[line_index, column_index] / pivot)\n",
    "                        \n",
    "        return result\n",
    "    \n",
    "def get_lower_decomposed_matrix(matrix):\n",
    "    order = matrix.shape[0]\n",
    "    \n",
    "    l = np.identity(order)\n",
    "    for step_index in range(order - 1):\n",
    "        current_multiplier = get_lower_linear_combination_matrix_step(matrix, step_index)\n",
    "        l = current_multiplier@l\n",
    "\n",
    "    return l\n",
    "\n",
    "def gauss_jordan_elimination(matrix):\n",
    "    upper = gauss_elimination(matrix)\n",
    "    lower = get_lower_decomposed_matrix(matrix)\n",
    "    \n",
    "    print(f'LU:\\nL:\\n{lower}\\nU:\\n{upper}')\n",
    "    \n",
    "    return lower@upper\n"
   ]
  },
  {
   "cell_type": "code",
   "execution_count": 8,
   "metadata": {},
   "outputs": [
    {
     "name": "stdout",
     "output_type": "stream",
     "text": [
      "step 0:\n",
      "[[ 1.  0.  0.]\n",
      " [-4.  1.  0.]\n",
      " [-4.  0.  1.]]\n",
      "step 1:\n",
      "[[ 1.   0.   0. ]\n",
      " [ 0.   1.   0. ]\n",
      " [ 0.  -0.5  1. ]]\n",
      "LU:\n",
      "L:\n",
      "[[ 1.   -0.5  -0.25]\n",
      " [ 0.    1.   -0.5 ]\n",
      " [ 0.    0.    1.  ]]\n",
      "U:\n",
      "[[ 1.  2.  2.]\n",
      " [ 0. -4. -6.]\n",
      " [ 0.  0. -1.]]\n"
     ]
    },
    {
     "data": {
      "text/plain": [
       "matrix([[ 1.  ,  4.  ,  5.25],\n",
       "        [ 0.  , -4.  , -5.5 ],\n",
       "        [ 0.  ,  0.  , -1.  ]])"
      ]
     },
     "execution_count": 8,
     "metadata": {},
     "output_type": "execute_result"
    }
   ],
   "source": [
    "gauss_jordan_elimination(A)"
   ]
  },
  {
   "cell_type": "code",
   "execution_count": null,
   "metadata": {},
   "outputs": [],
   "source": []
  }
 ],
 "metadata": {
  "kernelspec": {
   "display_name": "Python 3",
   "language": "python",
   "name": "python3"
  },
  "language_info": {
   "codemirror_mode": {
    "name": "ipython",
    "version": 3
   },
   "file_extension": ".py",
   "mimetype": "text/x-python",
   "name": "python",
   "nbconvert_exporter": "python",
   "pygments_lexer": "ipython3",
   "version": "3.8.3"
  }
 },
 "nbformat": 4,
 "nbformat_minor": 4
}
